{
 "cells": [
  {
   "cell_type": "code",
   "execution_count": 4,
   "metadata": {},
   "outputs": [
    {
     "name": "stdout",
     "output_type": "stream",
     "text": [
      "[4, 16, 144, 36]\n"
     ]
    }
   ],
   "source": [
    "\"\"\"A = [0]* N-max    #A = []                   A = [x**2 for x in range (10)] \n",
    "n = 0                                             #    ||\n",
    "x = int (input())  #x = int (input())       A = []\n",
    "A[n] = x           #A.apppend (x)           for x in range (10):\n",
    "n +=1              #n = len (A)                 A.append (x**2)\n",
    "x= A[n]            #x = A.pop ()\"\"\"\n",
    "\n",
    "A = [1,2,3,4,5,7,12,9,6]\n",
    "B = []\n",
    "\"\"\"\"for x in A:\n",
    "    if x%2 == 0:\n",
    "        B.append (x**2)\"\"\"\n",
    "B = [x**2 for x in A if x%2==0] #(x**2 => 0 if x<0 else x**2)        \n",
    "print (B)\n"
   ]
  },
  {
   "cell_type": "code",
   "execution_count": null,
   "metadata": {},
   "outputs": [],
   "source": []
  }
 ],
 "metadata": {
  "kernelspec": {
   "display_name": "Python 3.10.7 64-bit",
   "language": "python",
   "name": "python3"
  },
  "language_info": {
   "codemirror_mode": {
    "name": "ipython",
    "version": 3
   },
   "file_extension": ".py",
   "mimetype": "text/x-python",
   "name": "python",
   "nbconvert_exporter": "python",
   "pygments_lexer": "ipython3",
   "version": "3.10.7"
  },
  "orig_nbformat": 4,
  "vscode": {
   "interpreter": {
    "hash": "52634da84371cba311ea128a5ea7cdc41ff074b781779e754b270ff9f8153cee"
   }
  }
 },
 "nbformat": 4,
 "nbformat_minor": 2
}
