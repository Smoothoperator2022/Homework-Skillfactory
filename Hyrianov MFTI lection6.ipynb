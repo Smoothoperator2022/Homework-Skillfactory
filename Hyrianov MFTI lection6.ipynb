{
 "cells": [
  {
   "cell_type": "code",
   "execution_count": 4,
   "metadata": {},
   "outputs": [
    {
     "name": "stdout",
     "output_type": "stream",
     "text": [
      "[4, 16, 144, 36]\n"
     ]
    }
   ],
   "source": [
    "\"\"\"A = [0]* N-max    #A = []                   A = [x**2 for x in range (10)] \n",
    "n = 0                                             #    ||\n",
    "x = int (input())  #x = int (input())       A = []\n",
    "A[n] = x           #A.apppend (x)           for x in range (10):\n",
    "n +=1              #n = len (A)                 A.append (x**2)\n",
    "x= A[n]            #x = A.pop ()\"\"\"\n",
    "\n",
    "A = [1,2,3,4,5,7,12,9,6]\n",
    "B = []\n",
    "\"\"\"\"for x in A:\n",
    "    if x%2 == 0:\n",
    "        B.append (x**2)\"\"\"\n",
    "B = [x**2 for x in A if x%2==0] #(x**2 => 0 if x<0 else x**2)        \n",
    "print (B)\n"
   ]
  },
  {
   "cell_type": "code",
   "execution_count": 8,
   "metadata": {},
   "outputs": [
    {
     "name": "stdout",
     "output_type": "stream",
     "text": [
      "Тестуємо:  сортування списку А вставками\n",
      "testcase #1: Ok\n",
      "testcase #2: Ok\n",
      "testcase #3: Ok\n",
      "Тестуємо:  сортування списку А вибором\n",
      "testcase #1: Ok\n",
      "testcase #2: Ok\n",
      "testcase #3: Ok\n",
      "Тестуємо:  сортування списку А пузирьковим методом\n",
      "testcase #1: Ok\n",
      "testcase #2: Ok\n",
      "testcase #3: Ok\n"
     ]
    }
   ],
   "source": [
    "\"\"\"Квадратичне сортування sort O від N2 часу\"\"\"\n",
    "\n",
    "def insert_sort (A):\n",
    "    \"\"\"сортування списку А вставками\"\"\"\n",
    "    N = len (A)\n",
    "    for top in range (1, N):\n",
    "        k = top\n",
    "        while k > 0 and A[k-1] > A[k]:\n",
    "            A[k], A[k-1] = A[k-1], A [k]\n",
    "            k -= 1\n",
    "\n",
    "\n",
    "def choise_sort (A):\n",
    "    \"\"\"сортування списку А вибором\"\"\"\n",
    "    N = len (A)\n",
    "    for pos in range (0, N-1):\n",
    "        for k in range (pos+1, N):\n",
    "            if A[k] < A[pos]:\n",
    "                A[k], A[pos] = A[pos],A[k]\n",
    "\n",
    "\n",
    "def bubble_sort (A):\n",
    "    \"\"\"сортування списку А пузирьковим методом\"\"\"\n",
    "    N = len (A)\n",
    "    for bypass in range (1, N):\n",
    "        for k in range (0, N-bypass):\n",
    "            if A[k] > A[k+1]:\n",
    "                A[k], A[k+1] = A[k+1], A[k]\n",
    "\n",
    "def test_sort(sort_algorithm):\n",
    "    print (\"Тестуємо: \", sort_algorithm.__doc__)\n",
    "    print (\"testcase #1: \", end=\"\")\n",
    "    A = [4,2,5,1,3]\n",
    "    A_sorted = [1,2,3,4,5]\n",
    "    sort_algorithm (A)\n",
    "    print ('Ok' if A == A_sorted else 'Fail')\n",
    "    \n",
    "    print (\"testcase #2: \", end=\"\")\n",
    "    A = list(range(10,20)) + list(range(0,10))\n",
    "    A_sorted = list(range(20))\n",
    "    sort_algorithm (A)\n",
    "    print ('Ok' if A == A_sorted else 'Fail')\n",
    "    \n",
    "    print (\"testcase #3: \", end=\"\")\n",
    "    A = [4,2,4,2,1]\n",
    "    A_sorted = [1,2,2,4,4]\n",
    "    sort_algorithm (A)\n",
    "    print ('Ok' if A == A_sorted else 'Fail')\n",
    "    \n",
    "#if__name__ == '__main__':\n",
    "test_sort (insert_sort)\n",
    "test_sort (choise_sort)\n",
    "test_sort (bubble_sort)"
   ]
  },
  {
   "cell_type": "code",
   "execution_count": null,
   "metadata": {},
   "outputs": [],
   "source": [
    "\"\"\"Сортування підрахунком О від N часу count sort, \n",
    "O(M) пам'яті, де М кіл-сть різних елементів\"\"\"\n",
    "\n",
    "N = ...; F = [0]*10\n",
    "for i in range (N): #частотний аналіз\n",
    "    x = int (input())\n",
    "    F[x] +=1"
   ]
  }
 ],
 "metadata": {
  "kernelspec": {
   "display_name": "Python 3.10.7 64-bit",
   "language": "python",
   "name": "python3"
  },
  "language_info": {
   "codemirror_mode": {
    "name": "ipython",
    "version": 3
   },
   "file_extension": ".py",
   "mimetype": "text/x-python",
   "name": "python",
   "nbconvert_exporter": "python",
   "pygments_lexer": "ipython3",
   "version": "3.10.7"
  },
  "orig_nbformat": 4,
  "vscode": {
   "interpreter": {
    "hash": "52634da84371cba311ea128a5ea7cdc41ff074b781779e754b270ff9f8153cee"
   }
  }
 },
 "nbformat": 4,
 "nbformat_minor": 2
}
