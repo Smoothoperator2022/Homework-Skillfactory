{
 "cells": [
  {
   "cell_type": "code",
   "execution_count": 19,
   "metadata": {},
   "outputs": [
    {
     "data": {
      "text/plain": [
       "array([[[21,  7, 32, 28, 43],\n",
       "        [29, 83, 15, 96, 86],\n",
       "        [84, 78, 11, 27, 91],\n",
       "        [81, 88, 93, 47, 35],\n",
       "        [37, 16, 10, 98, 22]],\n",
       "\n",
       "       [[14, 19, 16, 20, 31],\n",
       "        [91, 11, 49, 73, 99],\n",
       "        [98, 55, 70,  9, 47],\n",
       "        [83, 15, 39, 32, 52],\n",
       "        [53, 42, 78, 41, 71]],\n",
       "\n",
       "       [[37,  1, 25, 75,  6],\n",
       "        [22, 24, 29, 23, 62],\n",
       "        [40, 27, 61, 77, 31],\n",
       "        [32, 93, 81, 73, 41],\n",
       "        [17, 85,  3, 10, 26]],\n",
       "\n",
       "       [[72, 91, 59, 41, 27],\n",
       "        [48, 49, 68, 21, 73],\n",
       "        [69, 78, 65, 51, 17],\n",
       "        [45, 38, 60, 20, 92],\n",
       "        [56, 28, 30, 75, 12]],\n",
       "\n",
       "       [[23, 87, 14, 91, 57],\n",
       "        [ 1, 92, 59, 20, 27],\n",
       "        [ 2, 36, 54, 72, 13],\n",
       "        [45, 74, 49, 17, 95],\n",
       "        [26, 18, 46, 69, 60]]])"
      ]
     },
     "execution_count": 19,
     "metadata": {},
     "output_type": "execute_result"
    }
   ],
   "source": [
    "import numpy as np\n",
    "\n",
    "def get_unique_loto(num):\n",
    "    sample = np.arange(1, 101)\n",
    "    res = list()\n",
    "    for i in range(num):\n",
    "        res.append(np.random.choice(sample, replace=False, size=(5, 5)))\n",
    "    res = np.array(res)\n",
    "    return res\n",
    "\n",
    "get_unique_loto(5)"
   ]
  },
  {
   "cell_type": "code",
   "execution_count": 17,
   "metadata": {},
   "outputs": [
    {
     "name": "stdout",
     "output_type": "stream",
     "text": [
      "[  1   2   3   4   5   6   7   8   9  10  11  12  13  14  15  16  17  18\n",
      "  19  20  21  22  23  24  25  26  27  28  29  30  31  32  33  34  35  36\n",
      "  37  38  39  40  41  42  43  44  45  46  47  48  49  50  51  52  53  54\n",
      "  55  56  57  58  59  60  61  62  63  64  65  66  67  68  69  70  71  72\n",
      "  73  74  75  76  77  78  79  80  81  82  83  84  85  86  87  88  89  90\n",
      "  91  92  93  94  95  96  97  98  99 100]\n",
      "[[95 40 32 60  3]\n",
      " [22 38 64 69 36]\n",
      " [27 39 18  5 13]\n",
      " [34 33 80 19  6]\n",
      " [35 47  8 44 93]]\n",
      "[array([[95, 40, 32, 60,  3],\n",
      "       [22, 38, 64, 69, 36],\n",
      "       [27, 39, 18,  5, 13],\n",
      "       [34, 33, 80, 19,  6],\n",
      "       [35, 47,  8, 44, 93]])]\n"
     ]
    }
   ],
   "source": [
    "import numpy as np\n",
    "\n",
    "#loto_example = np.random.randint(0, 100, size=(3, 5, 5))\n",
    "#unique_loto = np.random.choice(loto_example, size=3, replace=False)\n",
    "list_1 = []\n",
    "sample = np.arange(1, 101)\n",
    "new = np.random.choice(sample, replace=False, size=(5, 5))\n",
    "list_1.append (new)\n",
    "print (sample)\n",
    "print (new)\n",
    "print (list_1)"
   ]
  }
 ],
 "metadata": {
  "kernelspec": {
   "display_name": "Python 3.10.7 64-bit",
   "language": "python",
   "name": "python3"
  },
  "language_info": {
   "codemirror_mode": {
    "name": "ipython",
    "version": 3
   },
   "file_extension": ".py",
   "mimetype": "text/x-python",
   "name": "python",
   "nbconvert_exporter": "python",
   "pygments_lexer": "ipython3",
   "version": "3.10.7"
  },
  "orig_nbformat": 4,
  "vscode": {
   "interpreter": {
    "hash": "52634da84371cba311ea128a5ea7cdc41ff074b781779e754b270ff9f8153cee"
   }
  }
 },
 "nbformat": 4,
 "nbformat_minor": 2
}
