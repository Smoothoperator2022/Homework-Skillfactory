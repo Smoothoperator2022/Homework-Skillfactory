{
 "cells": [
  {
   "cell_type": "code",
   "execution_count": null,
   "metadata": {},
   "outputs": [],
   "source": [
    "from game_v2 import score_game\n",
    "from game_v2 import random_predict\n",
    "score_game (random_predict)\n",
    "Quantity of tries:80\n",
    "Your algorythm guess the number in average for: 101 tries\n",
    "101\n",
    "from game_v2 import score_game, random_predict\n",
    "score_game (random_predict)\n",
    "Your algorythm guess the number in average for: 101 tries\n",
    "101\n",
    "game_v2.score_game(game_v2.random_predict)\n",
    "---------------------------------------------------------------------------\n",
    "NameError                                 Traceback (most recent call last)\n",
    "Cell In [4], line 1\n",
    "----> 1 game_v2.score_game(game_v2.random_predict)\n",
    "\n",
    "NameError: name 'game_v2' is not defined\n",
    "z = 5\n",
    "n = z\n",
    "z = 10\n",
    "Guess the number\n",
    "Work harder\n",
    "\n",
    "Bold and italic\n",
    "\n",
    "not Useful for highlighting to grab the attention of the reader towards certain points."
   ]
  }
 ],
 "metadata": {
  "kernelspec": {
   "display_name": "Python 3.10.7 64-bit",
   "language": "python",
   "name": "python3"
  },
  "language_info": {
   "name": "python",
   "version": "3.10.7"
  },
  "orig_nbformat": 4,
  "vscode": {
   "interpreter": {
    "hash": "52634da84371cba311ea128a5ea7cdc41ff074b781779e754b270ff9f8153cee"
   }
  }
 },
 "nbformat": 4,
 "nbformat_minor": 2
}
