{
 "cells": [
  {
   "cell_type": "code",
   "execution_count": null,
   "metadata": {},
   "outputs": [
    {
     "ename": "ValueError",
     "evalue": "to assemble mappings requires at least that [year, month, day] be specified: [day,month,year] is missing",
     "output_type": "error",
     "traceback": [
      "\u001b[1;31m---------------------------------------------------------------------------\u001b[0m",
      "\u001b[1;31mValueError\u001b[0m                                Traceback (most recent call last)",
      "Cell \u001b[1;32mIn [31], line 26\u001b[0m\n\u001b[0;32m     24\u001b[0m \u001b[39m#В каком году было выставлено больше всего оценок?...используйте таблицу dates.\u001b[39;00m\n\u001b[0;32m     25\u001b[0m dates_df \u001b[39m=\u001b[39m pd\u001b[39m.\u001b[39mread_csv(\u001b[39m'\u001b[39m\u001b[39mdata_test/dates.csv\u001b[39m\u001b[39m'\u001b[39m)\n\u001b[1;32m---> 26\u001b[0m dates_df \u001b[39m=\u001b[39m pd\u001b[39m.\u001b[39;49mto_datetime(dates_df)\n",
      "File \u001b[1;32mc:\\Python\\lib\\site-packages\\pandas\\core\\tools\\datetimes.py:1072\u001b[0m, in \u001b[0;36mto_datetime\u001b[1;34m(arg, errors, dayfirst, yearfirst, utc, format, exact, unit, infer_datetime_format, origin, cache)\u001b[0m\n\u001b[0;32m   1070\u001b[0m         result \u001b[39m=\u001b[39m arg\u001b[39m.\u001b[39m_constructor(values, index\u001b[39m=\u001b[39marg\u001b[39m.\u001b[39mindex, name\u001b[39m=\u001b[39marg\u001b[39m.\u001b[39mname)\n\u001b[0;32m   1071\u001b[0m \u001b[39melif\u001b[39;00m \u001b[39misinstance\u001b[39m(arg, (ABCDataFrame, abc\u001b[39m.\u001b[39mMutableMapping)):\n\u001b[1;32m-> 1072\u001b[0m     result \u001b[39m=\u001b[39m _assemble_from_unit_mappings(arg, errors, tz)\n\u001b[0;32m   1073\u001b[0m \u001b[39melif\u001b[39;00m \u001b[39misinstance\u001b[39m(arg, Index):\n\u001b[0;32m   1074\u001b[0m     cache_array \u001b[39m=\u001b[39m _maybe_cache(arg, \u001b[39mformat\u001b[39m, cache, convert_listlike)\n",
      "File \u001b[1;32mc:\\Python\\lib\\site-packages\\pandas\\core\\tools\\datetimes.py:1187\u001b[0m, in \u001b[0;36m_assemble_from_unit_mappings\u001b[1;34m(arg, errors, tz)\u001b[0m\n\u001b[0;32m   1185\u001b[0m \u001b[39mif\u001b[39;00m \u001b[39mlen\u001b[39m(req):\n\u001b[0;32m   1186\u001b[0m     _required \u001b[39m=\u001b[39m \u001b[39m\"\u001b[39m\u001b[39m,\u001b[39m\u001b[39m\"\u001b[39m\u001b[39m.\u001b[39mjoin(req)\n\u001b[1;32m-> 1187\u001b[0m     \u001b[39mraise\u001b[39;00m \u001b[39mValueError\u001b[39;00m(\n\u001b[0;32m   1188\u001b[0m         \u001b[39m\"\u001b[39m\u001b[39mto assemble mappings requires at least that \u001b[39m\u001b[39m\"\u001b[39m\n\u001b[0;32m   1189\u001b[0m         \u001b[39mf\u001b[39m\u001b[39m\"\u001b[39m\u001b[39m[year, month, day] be specified: [\u001b[39m\u001b[39m{\u001b[39;00m_required\u001b[39m}\u001b[39;00m\u001b[39m] is missing\u001b[39m\u001b[39m\"\u001b[39m\n\u001b[0;32m   1190\u001b[0m     )\n\u001b[0;32m   1192\u001b[0m \u001b[39m# keys we don't recognize\u001b[39;00m\n\u001b[0;32m   1193\u001b[0m excess \u001b[39m=\u001b[39m \u001b[39msorted\u001b[39m(\u001b[39mset\u001b[39m(unit_rev\u001b[39m.\u001b[39mkeys()) \u001b[39m-\u001b[39m \u001b[39mset\u001b[39m(_unit_map\u001b[39m.\u001b[39mvalues()))\n",
      "\u001b[1;31mValueError\u001b[0m: to assemble mappings requires at least that [year, month, day] be specified: [day,month,year] is missing"
     ]
    }
   ],
   "source": [
    "\"\"\"Наши данные представляют собой четыре таблицы:\n",
    "\n",
    "ratings1 и ratings2 — таблицы с данными о выставленных пользователями оценках фильмов. \n",
    "Они имеют одинаковую структуру и типы данных — на самом деле это две части одной таблицы \n",
    "с оценками фильмов.\n",
    "userId — уникальный идентификатор пользователя, который выставил оценку;\n",
    "movieId — уникальный идентификатор фильма;\n",
    "rating — рейтинг фильма.\n",
    "\n",
    "dates — таблица с датами выставления всех оценок.\n",
    "date — дата и время выставления оценки фильму.\n",
    "\n",
    "movies — таблица с информацией о фильмах.\n",
    "movieId — уникальный идентификатор фильма;\n",
    "title — название фильма и год его выхода;\n",
    "genres — жанры фильма.\"\"\"\n",
    "import pandas as pd\n",
    "movies_df = pd.read_csv('data_test/movies.csv')\n",
    "#Сколько уникальных фильмов представлено в таблице movies?\n",
    "movies_df['movieId'].nunique()\n",
    "#Сколько уникальных пользователей в таблице ratings1?\n",
    "ratings1_df = pd.read_csv('data_test/ratings1.csv')\n",
    "ratings1_df['userId'].nunique()\n",
    "#В каком году было выставлено больше всего оценок?...используйте таблицу dates.\n",
    "dates_df = pd.read_csv('data_test/dates.csv')\n",
    "dates_df = pd.to_datetime(dates_df,yearfirst=True)\n"
   ]
  }
 ],
 "metadata": {
  "kernelspec": {
   "display_name": "Python 3.10.7 64-bit",
   "language": "python",
   "name": "python3"
  },
  "language_info": {
   "codemirror_mode": {
    "name": "ipython",
    "version": 3
   },
   "file_extension": ".py",
   "mimetype": "text/x-python",
   "name": "python",
   "nbconvert_exporter": "python",
   "pygments_lexer": "ipython3",
   "version": "3.10.7"
  },
  "orig_nbformat": 4,
  "vscode": {
   "interpreter": {
    "hash": "52634da84371cba311ea128a5ea7cdc41ff074b781779e754b270ff9f8153cee"
   }
  }
 },
 "nbformat": 4,
 "nbformat_minor": 2
}
