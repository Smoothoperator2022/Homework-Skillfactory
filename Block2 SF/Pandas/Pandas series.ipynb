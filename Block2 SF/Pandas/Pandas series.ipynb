{
 "cells": [
  {
   "cell_type": "code",
   "execution_count": 5,
   "metadata": {},
   "outputs": [
    {
     "name": "stdout",
     "output_type": "stream",
     "text": [
      "pandas\n"
     ]
    },
    {
     "data": {
      "text/plain": [
       "UK       Англия\n",
       "CA       Канада\n",
       "US          США\n",
       "RU       Россия\n",
       "UA      Украина\n",
       "BY     Беларусь\n",
       "KZ    Казахстан\n",
       "Name: countries, dtype: object"
      ]
     },
     "metadata": {},
     "output_type": "display_data"
    },
    {
     "name": "stdout",
     "output_type": "stream",
     "text": [
      "США\n",
      "US       США\n",
      "RU    Россия\n",
      "UK    Англия\n",
      "Name: countries, dtype: object\n",
      "Казахстан\n",
      "CA    Канада\n",
      "US       США\n",
      "RU    Россия\n",
      "Name: countries, dtype: object\n"
     ]
    },
    {
     "data": {
      "text/plain": [
       "b    6\n",
       "c    7\n",
       "e    9\n",
       "dtype: int64"
      ]
     },
     "execution_count": 5,
     "metadata": {},
     "output_type": "execute_result"
    }
   ],
   "source": [
    "import pandas as pd\n",
    "pd.__version__\n",
    "print(pd.__name__)\n",
    "\n",
    "countries = pd.Series(\n",
    "    data = ['Англия', 'Канада', 'США', 'Россия', 'Украина', 'Беларусь', 'Казахстан'],\n",
    "    index = ['UK', 'CA', 'US', 'RU', 'UA', 'BY', 'KZ'],\n",
    "    name = 'countries'\n",
    ")\n",
    "display(countries)\n",
    "#UK       Англия\n",
    "#CA       Канада\n",
    "#US          США\n",
    "#RU       Россия\n",
    "#UA      Украина\n",
    "#BY     Беларусь\n",
    "#KZ    Казахстан\n",
    "#Name: countries, dtype: object\n",
    "\n",
    "\"\"\".loc вызывается с квадратными скобками, в которые передаются метки. \n",
    "В него можно передать как один индекс, так и список, чтобы получилось несколько элементов. \"\"\"\n",
    "\n",
    "print(countries.loc['US'])\n",
    "# США\n",
    "\n",
    "print(countries.loc[['US', 'RU', 'UK']])\n",
    "#US       США\n",
    "#RU    Россия\n",
    "#UK    Англия\n",
    "#Name: countries, dtype: object\n",
    "\n",
    "\"\"\".iloc также вызывается с квадратными скобками и принимает на вход порядковые номера элементов Series \n",
    "(нумерация начинаются с 0). В него можно так же передавать как один индекс, так и диапазон чисел. \n",
    "Например, для получения элемента по индексу \"KZ\" нужно обратиться через .iloc по номеру 6:\"\"\"\n",
    "\n",
    "print(countries.iloc[6])\n",
    "# Казахстан\n",
    "print(countries.iloc[1:4])\n",
    "#CA    Канада\n",
    "#US       США\n",
    "#RU    Россия\n",
    "#Name: countries, dtype: object\n",
    "\n",
    "\"\"\"Задан Series my_series = pd.Series(data=[5, 6, 7, 8, 9, 10], index=['a', 'b', 'c', 'd', 'e', 'f']). \n",
    "Какими из нижеперечисленных способов можно достать из него числа 6, 7 и 9?\"\"\"\n",
    "my_series = pd.Series(data=[5, 6, 7, 8, 9, 10], index=['a', 'b', 'c', 'd', 'e', 'f'])\n",
    "my_series[['b', 'c', 'e']]\n",
    "my_series.iloc[[1, 2, 4]]\n",
    "\n"
   ]
  },
  {
   "cell_type": "code",
   "execution_count": 18,
   "metadata": {},
   "outputs": [
    {
     "data": {
      "text/plain": [
       "('cyntomycin', 45.0, ' %')"
      ]
     },
     "execution_count": 18,
     "metadata": {},
     "output_type": "execute_result"
    }
   ],
   "source": [
    "\"\"\"В аптеку поступают партии лекарств. Их названия находятся в списке names, \n",
    "количество единиц товара находится в списке counts.\n",
    "Например:\n",
    "names=['chlorhexidine', 'cyntomycin', 'afobazol']\n",
    "counts=[15, 18, 7]\n",
    "Напишите функцию create_medications(names, counts), создающую Series medications, \n",
    "индексами которого являются названия лекарств names, а значениями — их количество в партии counts.\n",
    "Также напишите функцию get_percent(medications, name), которая возвращает долю товара \n",
    "с именем name от общего количества товаров в партии в процентах.\"\"\"\n",
    "\n",
    "import pandas as pd\n",
    "\n",
    "names=['chlorhexidine', 'cyntomycin', 'afobazol']\n",
    "counts=[15, 18, 7]\n",
    "def create_medications(names, counts):\n",
    "    drugs_object = pd.Series (data = counts, index = names)\n",
    "    return drugs_object\n",
    "create_medications(names, counts)\n",
    "def get_percent(drugs_object, name):\n",
    "    drug_percent = drugs_object.loc [name]/sum (drugs_object)*100\n",
    "    return name, drug_percent, \" %\"\n",
    "get_percent (create_medications(names, counts),'cyntomycin')\n",
    "#create_medications(names, counts)\n",
    "\n",
    "\n"
   ]
  },
  {
   "cell_type": "code",
   "execution_count": 19,
   "metadata": {},
   "outputs": [
    {
     "data": {
      "text/plain": [
       "17.5"
      ]
     },
     "execution_count": 19,
     "metadata": {},
     "output_type": "execute_result"
    }
   ],
   "source": [
    "import pandas as pd\n",
    "def create_medications(names, counts):\n",
    "    medications = pd.Series(index=names, data=counts)\n",
    "    return medications\n",
    "def get_percent(medications, name):\n",
    "    return(medications.loc[name]/sum(medications) * 100)\n",
    "\n",
    "names=['chlorhexidine', 'cyntomycin', 'afobazol']\n",
    "counts=[15, 18, 7]\n",
    "create_medications (names,counts)\n",
    "get_percent (create_medications(names,counts),'afobazol')"
   ]
  }
 ],
 "metadata": {
  "kernelspec": {
   "display_name": "Python 3.10.7 64-bit",
   "language": "python",
   "name": "python3"
  },
  "language_info": {
   "codemirror_mode": {
    "name": "ipython",
    "version": 3
   },
   "file_extension": ".py",
   "mimetype": "text/x-python",
   "name": "python",
   "nbconvert_exporter": "python",
   "pygments_lexer": "ipython3",
   "version": "3.10.7"
  },
  "orig_nbformat": 4,
  "vscode": {
   "interpreter": {
    "hash": "52634da84371cba311ea128a5ea7cdc41ff074b781779e754b270ff9f8153cee"
   }
  }
 },
 "nbformat": 4,
 "nbformat_minor": 2
}
