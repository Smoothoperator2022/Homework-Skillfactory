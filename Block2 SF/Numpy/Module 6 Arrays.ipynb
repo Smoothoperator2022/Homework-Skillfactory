{
 "cells": [
  {
   "cell_type": "code",
   "execution_count": 4,
   "metadata": {},
   "outputs": [
    {
     "name": "stdout",
     "output_type": "stream",
     "text": [
      "<class 'numpy.ndarray'>\n"
     ]
    },
    {
     "data": {
      "text/plain": [
       "array([[12, 45, 78],\n",
       "       [34, 56, 13],\n",
       "       [12, 98, 76]])"
      ]
     },
     "execution_count": 4,
     "metadata": {},
     "output_type": "execute_result"
    }
   ],
   "source": [
    "import numpy as np\n",
    "arr = np.array([1,5,2,9,10])\n",
    "arr\n",
    "# array([ 1,  5,  2,  9, 10])\n",
    "print(type(arr))\n",
    "# <class 'numpy.ndarray'> Название ndarray — это сокращение от n-dimensional array, n-мерный массив.\n",
    "\n",
    "# Перечислить список из списков можно было и в одну строку, но на нескольких строках получается нагляднее\n",
    "nd_arr = np.array([\n",
    "               [12, 45, 78],\n",
    "               [34, 56, 13],\n",
    "               [12, 98, 76]\n",
    "               ])\n",
    "nd_arr\n",
    "# array([[12, 45, 78],\n",
    "#        [34, 56, 13],\n",
    "#        [12, 98, 76]])"
   ]
  },
  {
   "cell_type": "code",
   "execution_count": 23,
   "metadata": {},
   "outputs": [
    {
     "data": {
      "text/plain": [
       "dtype('float64')"
      ]
     },
     "execution_count": 23,
     "metadata": {},
     "output_type": "execute_result"
    }
   ],
   "source": [
    "import numpy as np\n",
    "arr = np.array([1,5,2,9,10])\n",
    "arr.dtype\n",
    "# dtype('int64')\n",
    "\n",
    "arr = np.array([1,5,2,9,10], dtype=np.int8)\n",
    "arr\n",
    "# array([ 1,  5,  2,  9, 10], dtype=int8)\n",
    "arr[2] = 2000\n",
    "#Теперь, если добавить в arr число больше 127 или меньше -128,\n",
    "# оно потеряет исходное значение, как и при преобразовании к меньшему типу:\n",
    "arr\n",
    "# array([  1,   5, -48,   9,  10], dtype=int8)\n",
    "arr[2] = 125.5\n",
    "#Если добавить float в массив int, пропадёт десятичная часть:\n",
    "arr\n",
    "# array([  1,   5, 125,   9,  10], dtype=int8)\n",
    "arr[2] = '12'\n",
    "#Строку, которую можно преобразовать в число, можно сразу положить в массив.\n",
    "# Она будет приведена к нужному типу автоматически:\n",
    "arr\n",
    "# array([ 1,  5, 12,  9, 10], dtype=int8)\n",
    "\"\"\"arr[2] = 'test'\"\"\"\n",
    "# ValueError: invalid literal for int() with base 10: 'test'\n",
    "#Поменять тип данных во всём массиве можно с помощью тех же функций, \n",
    "# которыми мы пользовались для преобразования типов отдельных переменных в предыдущем юните \n",
    "# (например, np.int32 или np.float128):\n",
    "arr = np.float64(arr)\n",
    "arr\n",
    "# array([ 1.,  5., 12.,  9., 10.], dtype=float64)\n",
    "arr = np.array([12321, -1234, 3435, -214, 100], dtype=np.int32)\n",
    "arr\n",
    "# array([12321, -1234,  3435,  -214,   100], dtype=int32)\n",
    "#При преобразовании типов данных в массиве не забывайте о том, \n",
    "#что часть чисел может потерять смысл, если менять тип данных с более ёмкого на менее ёмкий:\n",
    "arr = np.uint8(arr)\n",
    "arr\n",
    "# array([ 33,  46, 107,  42, 100], dtype=uint8)\n",
    "\n",
    "array_1 = np.array ([345234, 876362.12, 0, -1000, 99999999])\n",
    "array_1.dtype\n"
   ]
  },
  {
   "cell_type": "code",
   "execution_count": 22,
   "metadata": {},
   "outputs": [
    {
     "data": {
      "text/plain": [
       "dtype('float64')"
      ]
     },
     "execution_count": 22,
     "metadata": {},
     "output_type": "execute_result"
    }
   ],
   "source": [
    "arr = np.array([1,5,2,9,10], dtype=np.int8)\n",
    "nd_arr = np.array([\n",
    "               [12, 45, 78],\n",
    "               [34, 56, 13],\n",
    "               [12, 98, 76]\n",
    "               ], dtype=np.int16)\n",
    "#Узнать размерность массива можно с помощью .ndim:\n",
    "arr.ndim\n",
    "# 1\n",
    "nd_arr.ndim\n",
    "# 2\n",
    "#Узнать общее число элементов в массиве можно с помощью .size:\n",
    "arr.size\n",
    "# 5\n",
    "nd_arr.size\n",
    "# 9\n",
    "#Форма или структура массива хранится в атрибуте .shape:\n",
    "arr.shape\n",
    "# (5,)\n",
    "nd_arr.shape\n",
    "# (3, 3)\n",
    "#Наконец, узнать, сколько «весит» каждый элемент массива в байтах позволяет .itemsize:\n",
    "arr.itemsize\n",
    "# 1\n",
    "nd_arr.itemsize\n",
    "# 2"
   ]
  },
  {
   "cell_type": "code",
   "execution_count": 2,
   "metadata": {},
   "outputs": [
    {
     "name": "stdout",
     "output_type": "stream",
     "text": [
      "(5, 4, 3)\n",
      "0.1111111111111111\n",
      "0.1\n"
     ]
    }
   ],
   "source": [
    "import numpy as np\n",
    "zeros_1d = np.zeros(5)\n",
    "zeros_1d\n",
    "# array([0., 0., 0., 0., 0.])\n",
    "#Создадим трёхмерный массив с формой 5x4x3 и типом float32:\n",
    "zeros_3d = np.zeros((5,4,3), dtype=np.float32)\n",
    "print(zeros_3d.shape)\n",
    "# (5, 4, 3)\n",
    "\n",
    "\"\"\"щё одной удобной функцией для создания одномерных массивов является arange. \n",
    "Она аналогична встроенной функции range, но обладает рядом особенностей. \n",
    "Вот её сигнатура: arange([start,] stop, [step,], dtype=None).\n",
    "Аргументы start (по умолчанию 0), step (по умолчанию 1) и dtype (определяется автоматически) \n",
    "являются необязательными:\n",
    "start (входит в диапазон возвращаемых значений) задаёт начальное число;\n",
    "stop (не входит в диапазон возвращаемых значений, как и при использовании range) задаёт правую границу диапазона;\n",
    "step задаёт шаг, с которым в массив добавляются новые значения.\n",
    "В отличие от range, в функции arange все перечисленные параметры могут иметь тип float.\"\"\"\n",
    "np.arange(5)\n",
    "# array([0, 1, 2, 3, 4])\n",
    "np.arange(2.5, 5)\n",
    "# array([2.5, 3.5, 4.5])\n",
    "np.arange(2.5, 5, 0.5)\n",
    "# array([2.5, 3. , 3.5, 4. , 4.5])\n",
    "np.arange(2.5, 5, 0.5, dtype=np.float16)\n",
    "# array([2.5, 3. , 3.5, 4. , 4.5], dtype=float16)\n",
    "\n",
    "\"\"\"np.linspace(start, stop, num=50, endpoint=True, retstep=False, dtype=None)\n",
    "start и stop являются обязательными параметрами, задающими начало и конец возвращаемого диапазона;\n",
    "num — параметр, задающий число элементов, которое должно оказаться в массиве (по умолчанию 50);\n",
    "endpoint — включён или исключён конец диапазона (по умолчанию включён);\n",
    "retstep (по умолчанию False) позволяет указать, возвращать ли использованный шаг между значениями, помимо самого массива;\n",
    "dtype — уже хорошо знакомый нам параметр, задающий тип данных (если не задан, определяется автоматически).\"\"\"\n",
    "arr = np.linspace(1, 2, 10)\n",
    "arr\n",
    "# array([1.        , 1.11111111, 1.22222222, 1.33333333, 1.44444444,\n",
    "#        1.55555556, 1.66666667, 1.77777778, 1.88888889, 2.        ])\n",
    "\n",
    "#Создадим массив из десяти чисел между 1 и 2, не включая 2:\n",
    "arr = np.linspace(1, 2, 10, endpoint=False)\n",
    "arr\n",
    "# array([1. , 1.1, 1.2, 1.3, 1.4, 1.5, 1.6, 1.7, 1.8, 1.9])\n",
    "\n",
    "#Узнаем, какой шаг был использован для создания массива из десяти чисел между 1 и 2, где 2 включалось и не включалось:\n",
    "arr, step = np.linspace(1, 2, 10, endpoint=True, retstep=True)\n",
    "print(step)\n",
    "# 0.1111111111111111\n",
    "\n",
    "arr, step = np.linspace(1, 2, 10, endpoint=False, retstep=True)\n",
    "print(step)\n",
    "# 0.1\n"
   ]
  },
  {
   "cell_type": "code",
   "execution_count": 8,
   "metadata": {},
   "outputs": [
    {
     "data": {
      "text/plain": [
       "0.45"
      ]
     },
     "execution_count": 8,
     "metadata": {},
     "output_type": "execute_result"
    }
   ],
   "source": [
    "import numpy as np\n",
    "#С каким шагом сгенерируется массив из 60 чисел от -6 до 21 включительно? \n",
    "# Ответ округлите до двух знаков после точки.\n",
    "array_1, step = np.linspace(-6, 21, 60, retstep=True, endpoint=True)\n",
    "round (step,2)\n",
    "#0.46\n",
    "#С каким шагом сгенерируется массив из 60 чисел от -6 (включительно) до 21 (не включительно)?\n",
    "# Ответ округлите до 2 знаков после точки.\n",
    "array_1, step = np.linspace(-6, 21, 60, retstep=True, endpoint=False)\n",
    "round (step,2)\n"
   ]
  }
 ],
 "metadata": {
  "kernelspec": {
   "display_name": "Python 3.10.7 64-bit",
   "language": "python",
   "name": "python3"
  },
  "language_info": {
   "codemirror_mode": {
    "name": "ipython",
    "version": 3
   },
   "file_extension": ".py",
   "mimetype": "text/x-python",
   "name": "python",
   "nbconvert_exporter": "python",
   "pygments_lexer": "ipython3",
   "version": "3.10.7"
  },
  "orig_nbformat": 4,
  "vscode": {
   "interpreter": {
    "hash": "52634da84371cba311ea128a5ea7cdc41ff074b781779e754b270ff9f8153cee"
   }
  }
 },
 "nbformat": 4,
 "nbformat_minor": 2
}
