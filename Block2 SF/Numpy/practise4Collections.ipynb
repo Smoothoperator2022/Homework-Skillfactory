{
 "cells": [
  {
   "cell_type": "code",
   "execution_count": null,
   "metadata": {},
   "outputs": [],
   "source": [
    "from collections import deque\n",
    "users = [6, 18, 4, 7, 8, 8, 5, 18, 12, 17, 13, 15, 6, 7, 9, 17, \n",
    "        18, 8, 4, 11, 10, 8, 2, 10, 6, 10, 10, 9]\n",
    "users_dq = deque(users)\n",
    "first_user = users_dq.popleft()\n",
    "users_dq.rotate (-5)\n",
    "last_user_updated = users_dq.pop()\n",
    "print(users.count(last_user_updated))\n",
    "print (users_dq)\n",
    "print(users_dq.count(last_user_updated))"
   ]
  },
  {
   "cell_type": "code",
   "execution_count": null,
   "metadata": {},
   "outputs": [],
   "source": [
    "\"\"\"\"Напишите функцию brackets(line), которая определяет, является ли последовательность из круглых скобок правильной.\n",
    "Какая последовательность скобок правильная?\n",
    "Правильной скобочной последовательностью назовём такую последовательность скобок, в которой для каждой открывающей скобки есть последующая соответствующая ей закрывающая скобка.\n",
    "Цветом обозначены соответствующие друг другу скобки: (()())()\n",
    "Соответственно, остальные скобочные последовательности назовём неправильными.\n",
    "Пустую строку будем считать правильной последовательностью.\n",
    "Для решения этой задачи потребуется использовать стек.\n",
    "Посимвольно переберите строку. Если встретилась открывающаяся скобка, положите её в стек. Если встретилась закрывающаяся скобка, извлеките скобку из стека.\n",
    "o\tЕсли стек пустой, то есть извлечь скобку нельзя, последовательность неправильная.\n",
    "o\tЕсли строка закончилась и стек стал пустым, последовательность правильная.\n",
    "o\tЕсли в стеке остались скобки, последовательность неправильная.\n",
    "Пример:\n",
    "print(brackets(\"(()())\"))\n",
    "# True\n",
    "print(brackets(\"\"))\n",
    "# True\n",
    "print(brackets(\"(()()))\"))\n",
    "# False\"\"\"\n",
    "\n",
    "\n",
    "from collections import deque\n",
    "\n",
    "def brackets(line):\n",
    "    # Напишите тело функции\n",
    "    stack = deque()\n",
    "    for i in line:\n",
    "        if i == \"(\":\n",
    "            stack.append(i)\n",
    "        elif i == \")\":\n",
    "            if len(stack) == 0:\n",
    "                return False\n",
    "            stack.pop()\n",
    "    if len(stack) == 0:\n",
    "        return True\n",
    "    return False\n"
   ]
  },
  {
   "cell_type": "code",
   "execution_count": null,
   "metadata": {},
   "outputs": [],
   "source": [
    "\"\"\"Дан список из кортежей temps. На первом месте в кортеже указан год в виде строки, а на втором — средняя температура января в Петербурге в указанном году.\n",
    "Необходимо напечатать словарь, в котором ключи — годы, а значения — показатели температуры. Ключи необходимо отсортировать в порядке убывания соответствующих им температур.\n",
    "Пример входа:\n",
    "temps =  [('2000', -4.4), ('2001', -2.5), ('2002', -4.4), ('2003', -9.5)]\n",
    "Пример вывода:\n",
    "OrderedDict([('2001', -2.5), ('2000', -4.4), ('2002', -4.4), ('2003', -9.5)])\"\"\"\n",
    "\n",
    "from collections import OrderedDict\n",
    "\n",
    "odrered_by_temps = OrderedDict(sorted (temps, key = lambda i:i[1], reverse = True))\n",
    "print (odrered_by_temps)\n"
   ]
  },
  {
   "cell_type": "code",
   "execution_count": 21,
   "metadata": {},
   "outputs": [
    {
     "name": "stdout",
     "output_type": "stream",
     "text": [
      "[('WokAndRice', 4.9), ('WokToWork', 4.9), ('General Foods', 4.8), ('New Age', 4.6), ('Belissimo', 4.5), ('CakeAndCoffee', 4.2), ('CakeOClock', 4.2), ('CakeTime', 4.1), ('Nice Cakes', 3.9), ('Old Gold', 3.3), ('Old Wine Cellar', 3.3), ('Old York', 3.3)]\n",
      "OrderedDict([('WokAndRice', 4.9), ('WokToWork', 4.9), ('General Foods', 4.8), ('New Age', 4.6), ('Belissimo', 4.5), ('CakeAndCoffee', 4.2), ('CakeOClock', 4.2), ('CakeTime', 4.1), ('Nice Cakes', 3.9), ('Old Gold', 3.3), ('Old Wine Cellar', 3.3), ('Old York', 3.3)])\n"
     ]
    }
   ],
   "source": [
    "from collections import OrderedDict\n",
    "\n",
    "ratings = [('Old York', 3.3), ('New Age', 4.6), ('Old Gold', 3.3), ('General Foods', 4.8),\n",
    "           ('Belissimo', 4.5), ('CakeAndCoffee', 4.2), ('CakeOClock', 4.2), ('CakeTime', 4.1),\n",
    "           ('WokToWork', 4.9), ('WokAndRice', 4.9), ('Old Wine Cellar', 3.3), ('Nice Cakes', 3.9)]\n",
    "         \n",
    "# Отсортируйте список ratings по убыванию рейтинга. Для кафе\n",
    "# с одинаковым рейтингом отсортируйте кортежи по названию.\n",
    "# Сохраните данные с рейтингом в словарь cafes, где ключами являются\n",
    "# названия кафе, а значениями - их рейтинг.\n",
    "ratings.sort ( key=lambda x: (-x[1],x[0]))\n",
    "print (ratings)\n",
    "\n",
    "cafes = OrderedDict (ratings)\n",
    "print (cafes)\n",
    "\n"
   ]
  },
  {
   "cell_type": "code",
   "execution_count": 1,
   "metadata": {},
   "outputs": [
    {
     "name": "stdout",
     "output_type": "stream",
     "text": [
      "defaultdict(<class 'collections.deque'>, {'office': deque([36871, 40690, 33850]), 'voltage': deque([41667, 35364])})\n"
     ]
    }
   ],
   "source": [
    "from collections import deque, defaultdict\n",
    "\n",
    "tasks = [(36871, 'office', False),\n",
    "(40690, 'office', False),\n",
    "(35364, 'voltage', False),\n",
    "(41667, 'voltage', True),\n",
    "(33850, 'office', False)]\n",
    " \n",
    "def task_manager(tasks):\n",
    "    servers = defaultdict(deque)\n",
    "    for task in tasks:\n",
    "        if task[2] == True:\n",
    "            servers[task[1]].appendleft(task[0])\n",
    "        else:\n",
    "            servers[task[1]].append(task[0])\n",
    "    return servers\n",
    "\n",
    "print(task_manager(tasks))\n",
    "# defaultdict(, {'voltage': deque([41667, 35364]),\n",
    "# 'office': deque([36871, 40690, 33850])})\n",
    "\n",
    "#ordered_tasks = defaultdict (list)\n",
    "#for room, number, priority in tasks:\n",
    "#    ordered_tasks[number].append(room)\n",
    "\n"
   ]
  },
  {
   "cell_type": "code",
   "execution_count": 2,
   "metadata": {},
   "outputs": [
    {
     "name": "stdout",
     "output_type": "stream",
     "text": [
      "{'Meat': -52, 'Cheese': -29, 'Bread': -23, 'Chips': -22, 'Milk': -21, 'Ketchup': -19, 'Chocolate': -2, 'Orange': 75}\n"
     ]
    }
   ],
   "source": [
    "a_1_dict = {'Meat': 67, 'Cheese': 29, 'Bread': 23, 'Chips': 22, \n",
    "  'Milk': 21, 'Ketchup': 19, 'Chocolate': 2, 'Orange': 75}\n",
    "a_2_dict = {'Meat': 85, 'Cheese': 29, 'Bread': 23, 'Chips': 22, \n",
    "  'Milk': 21, 'Ketchup': 19, 'Chocolate': 2}\n",
    "a_3_dict = {'Meat': 34, 'Cheese': 29, 'Bread': 23, 'Chips': 22, \n",
    "  'Milk': 21, 'Ketchup': 19, 'Chocolate': 2}\n",
    "\n",
    "a_dif_dict = {}\n",
    "for prod in a_1_dict.keys ():\n",
    "    a_dif_dict [prod] = a_1_dict [prod] - a_2_dict.get (prod,0) - a_3_dict.get (prod,0)\n",
    "\n",
    "print (a_dif_dict)"
   ]
  }
 ],
 "metadata": {
  "kernelspec": {
   "display_name": "Python 3.10.7 64-bit",
   "language": "python",
   "name": "python3"
  },
  "language_info": {
   "codemirror_mode": {
    "name": "ipython",
    "version": 3
   },
   "file_extension": ".py",
   "mimetype": "text/x-python",
   "name": "python",
   "nbconvert_exporter": "python",
   "pygments_lexer": "ipython3",
   "version": "3.10.7"
  },
  "orig_nbformat": 4,
  "vscode": {
   "interpreter": {
    "hash": "52634da84371cba311ea128a5ea7cdc41ff074b781779e754b270ff9f8153cee"
   }
  }
 },
 "nbformat": 4,
 "nbformat_minor": 2
}
