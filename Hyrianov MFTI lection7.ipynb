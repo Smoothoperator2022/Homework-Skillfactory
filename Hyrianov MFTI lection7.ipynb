{
 "cells": [
  {
   "cell_type": "code",
   "execution_count": 1,
   "metadata": {},
   "outputs": [
    {
     "name": "stdout",
     "output_type": "stream",
     "text": [
      "top of matryoshka n= 5\n",
      "top of matryoshka n= 4\n",
      "top of matryoshka n= 3\n",
      "top of matryoshka n= 2\n",
      "matryoshechka\n",
      "bottom of matryoshka n= 2\n",
      "bottom of matryoshka n= 3\n",
      "bottom of matryoshka n= 4\n",
      "bottom of matryoshka n= 5\n"
     ]
    }
   ],
   "source": [
    "def matryoshka(n):\n",
    "    if n == 1:\n",
    "        print(\"matryoshechka\")\n",
    "    else:\n",
    "        print('top of matryoshka n=', n)\n",
    "        matryoshka(n-1)\n",
    "        print('bottom of matryoshka n=', n)\n",
    "        \n",
    "matryoshka(5)"
   ]
  }
 ],
 "metadata": {
  "kernelspec": {
   "display_name": "Python 3.10.7 64-bit",
   "language": "python",
   "name": "python3"
  },
  "language_info": {
   "codemirror_mode": {
    "name": "ipython",
    "version": 3
   },
   "file_extension": ".py",
   "mimetype": "text/x-python",
   "name": "python",
   "nbconvert_exporter": "python",
   "pygments_lexer": "ipython3",
   "version": "3.10.7"
  },
  "orig_nbformat": 4,
  "vscode": {
   "interpreter": {
    "hash": "52634da84371cba311ea128a5ea7cdc41ff074b781779e754b270ff9f8153cee"
   }
  }
 },
 "nbformat": 4,
 "nbformat_minor": 2
}
