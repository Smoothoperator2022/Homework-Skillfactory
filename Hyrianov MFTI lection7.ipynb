{
 "cells": [
  {
   "cell_type": "code",
   "execution_count": 1,
   "metadata": {},
   "outputs": [
    {
     "name": "stdout",
     "output_type": "stream",
     "text": [
      "top of matryoshka n= 5\n",
      "top of matryoshka n= 4\n",
      "top of matryoshka n= 3\n",
      "top of matryoshka n= 2\n",
      "matryoshechka\n",
      "bottom of matryoshka n= 2\n",
      "bottom of matryoshka n= 3\n",
      "bottom of matryoshka n= 4\n",
      "bottom of matryoshka n= 5\n"
     ]
    }
   ],
   "source": [
    "def matryoshka(n):\n",
    "    if n == 1:\n",
    "        print(\"matryoshechka\")\n",
    "    else:\n",
    "        print('top of matryoshka n=', n)\n",
    "        matryoshka(n-1)\n",
    "        print('bottom of matryoshka n=', n)\n",
    "        \n",
    "matryoshka(5)"
   ]
  },
  {
   "cell_type": "code",
   "execution_count": 1,
   "metadata": {},
   "outputs": [
    {
     "ename": "AttributeError",
     "evalue": "module 'graphics' has no attribute 'point'",
     "output_type": "error",
     "traceback": [
      "\u001b[1;31m---------------------------------------------------------------------------\u001b[0m",
      "\u001b[1;31mAttributeError\u001b[0m                            Traceback (most recent call last)",
      "Cell \u001b[1;32mIn [1], line 21\u001b[0m\n\u001b[0;32m     18\u001b[0m     D1 \u001b[39m=\u001b[39m (D[\u001b[39m0\u001b[39m] \u001b[39m*\u001b[39m (\u001b[39m1\u001b[39m \u001b[39m-\u001b[39m alpha) \u001b[39m+\u001b[39m A[\u001b[39m0\u001b[39m] \u001b[39m*\u001b[39m alpha), (D[\u001b[39m1\u001b[39m] \u001b[39m*\u001b[39m (\u001b[39m1\u001b[39m \u001b[39m-\u001b[39m alpha) \u001b[39m+\u001b[39m A[\u001b[39m1\u001b[39m] \u001b[39m*\u001b[39m alpha)\n\u001b[0;32m     19\u001b[0m     fractal_rectangle(A1, B1, C1, D1, deep\u001b[39m-\u001b[39m\u001b[39m1\u001b[39m)\n\u001b[1;32m---> 21\u001b[0m fractal_rectangle((\u001b[39m100\u001b[39;49m, \u001b[39m100\u001b[39;49m), (\u001b[39m500\u001b[39;49m, \u001b[39m100\u001b[39;49m), (\u001b[39m500\u001b[39;49m, \u001b[39m500\u001b[39;49m), (\u001b[39m100\u001b[39;49m, \u001b[39m500\u001b[39;49m))\n",
      "Cell \u001b[1;32mIn [1], line 14\u001b[0m, in \u001b[0;36mfractal_rectangle\u001b[1;34m(A, B, C, D, deep)\u001b[0m\n\u001b[0;32m      9\u001b[0m \u001b[39m#    gr.Line(gr.Point(*A), gr.point(*B)).draw(window) #A[0],A[1]\u001b[39;00m\n\u001b[0;32m     10\u001b[0m \u001b[39m#    gr.Line(gr.Point(*B), gr.point(*C)).draw(window)\u001b[39;00m\n\u001b[0;32m     11\u001b[0m \u001b[39m#    gr.Line(gr.Point(*C), gr.point(*D)).draw(window)\u001b[39;00m\n\u001b[0;32m     12\u001b[0m \u001b[39m#    gr.Line(gr.Point(*D), gr.point(*A)).draw(window)\u001b[39;00m\n\u001b[0;32m     13\u001b[0m     \u001b[39mfor\u001b[39;00m M, N \u001b[39min\u001b[39;00m (A, B), (B, C), (C, D), (D, A): \u001b[39m#[(),()] - can issue a list\u001b[39;00m\n\u001b[1;32m---> 14\u001b[0m         gr\u001b[39m.\u001b[39mLine(gr\u001b[39m.\u001b[39mPoint(\u001b[39m*\u001b[39mM), gr\u001b[39m.\u001b[39;49mpoint(\u001b[39m*\u001b[39mN))\u001b[39m.\u001b[39mdraw(window)\n\u001b[0;32m     15\u001b[0m     A1 \u001b[39m=\u001b[39m (A[\u001b[39m0\u001b[39m] \u001b[39m*\u001b[39m (\u001b[39m1\u001b[39m \u001b[39m-\u001b[39m alpha) \u001b[39m+\u001b[39m B[\u001b[39m0\u001b[39m] \u001b[39m*\u001b[39m alpha), (A[\u001b[39m1\u001b[39m] \u001b[39m*\u001b[39m (\u001b[39m1\u001b[39m \u001b[39m-\u001b[39m alpha) \u001b[39m+\u001b[39m B[\u001b[39m1\u001b[39m] \u001b[39m*\u001b[39m alpha)  \u001b[39m#coordinate x & y\u001b[39;00m\n\u001b[0;32m     16\u001b[0m     B1 \u001b[39m=\u001b[39m (B[\u001b[39m0\u001b[39m] \u001b[39m*\u001b[39m (\u001b[39m1\u001b[39m \u001b[39m-\u001b[39m alpha) \u001b[39m+\u001b[39m C[\u001b[39m0\u001b[39m] \u001b[39m*\u001b[39m alpha), (B[\u001b[39m1\u001b[39m] \u001b[39m*\u001b[39m (\u001b[39m1\u001b[39m \u001b[39m-\u001b[39m alpha) \u001b[39m+\u001b[39m C[\u001b[39m1\u001b[39m] \u001b[39m*\u001b[39m alpha)\n",
      "\u001b[1;31mAttributeError\u001b[0m: module 'graphics' has no attribute 'point'"
     ]
    }
   ],
   "source": [
    "import graphics as gr\n",
    "\n",
    "window = gr.GraphWin (\"Russion game\", 300, 300)\n",
    "alpha = 0.2\n",
    "\n",
    "def fractal_rectangle(A, B, C, D, deep=10):\n",
    "    if deep < 1:\n",
    "        return\n",
    "#    gr.Line(gr.Point(*A), gr.point(*B)).draw(window) #A[0],A[1]\n",
    "#    gr.Line(gr.Point(*B), gr.point(*C)).draw(window)\n",
    "#    gr.Line(gr.Point(*C), gr.point(*D)).draw(window)\n",
    "#    gr.Line(gr.Point(*D), gr.point(*A)).draw(window)\n",
    "    for M, N in (A, B), (B, C), (C, D), (D, A): #[(),()] - can issue a list\n",
    "        gr.Line(gr.point(*M), gr.point(*N)).draw(window)\n",
    "    A1 = (A[0] * (1 - alpha) + B[0] * alpha), (A[1] * (1 - alpha) + B[1] * alpha)  #coordinate x & y\n",
    "    B1 = (B[0] * (1 - alpha) + C[0] * alpha), (B[1] * (1 - alpha) + C[1] * alpha)\n",
    "    C1 = (C[0] * (1 - alpha) + D[0] * alpha), (C[1] * (1 - alpha) + D[1] * alpha)\n",
    "    D1 = (D[0] * (1 - alpha) + A[0] * alpha), (D[1] * (1 - alpha) + A[1] * alpha)\n",
    "    fractal_rectangle(A1, B1, C1, D1, deep-1)\n",
    "    \n",
    "fractal_rectangle((100, 100), (500, 100), (500, 500), (100, 500))"
   ]
  },
  {
   "cell_type": "code",
   "execution_count": 13,
   "metadata": {},
   "outputs": [
    {
     "data": {
      "text/plain": [
       "3"
      ]
     },
     "execution_count": 13,
     "metadata": {},
     "output_type": "execute_result"
    }
   ],
   "source": [
    "\"\"\"Evkllid Algorythm - grand comon divider\n",
    "def gcd(a,b):\n",
    "    if b == 0:\n",
    "        return a\n",
    "    else:\n",
    "        return gcd(b, a % b)\"\"\"\n",
    "    \n",
    "def gcd(a,b):\n",
    "    return (a if b == 0 else\n",
    "            gcd (b, a % b))\n",
    "\n",
    "gcd (57,9)"
   ]
  }
 ],
 "metadata": {
  "kernelspec": {
   "display_name": "Python 3.10.7 64-bit",
   "language": "python",
   "name": "python3"
  },
  "language_info": {
   "codemirror_mode": {
    "name": "ipython",
    "version": 3
   },
   "file_extension": ".py",
   "mimetype": "text/x-python",
   "name": "python",
   "nbconvert_exporter": "python",
   "pygments_lexer": "ipython3",
   "version": "3.10.7"
  },
  "orig_nbformat": 4,
  "vscode": {
   "interpreter": {
    "hash": "52634da84371cba311ea128a5ea7cdc41ff074b781779e754b270ff9f8153cee"
   }
  }
 },
 "nbformat": 4,
 "nbformat_minor": 2
}
