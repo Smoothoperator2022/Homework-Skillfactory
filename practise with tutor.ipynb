{
 "cells": [
  {
   "cell_type": "code",
   "execution_count": 1,
   "metadata": {},
   "outputs": [
    {
     "name": "stdout",
     "output_type": "stream",
     "text": [
      "4992\n",
      "4992\n",
      "10000000000\n"
     ]
    }
   ],
   "source": [
    "\"\"\"Вывести на экран полученное одним выражением с двумя знаками операции и с нужными литералами\n",
    "число, кратное 39, меньшее 5000, максимально близкое 5000. Сделать то же, заменив эти два знака\n",
    "операции на два других, переставив литералы\"\"\"\n",
    "print (5000 // 39 * 39)\n",
    "print (5000 - 5000 % 39)\n",
    "\n",
    "\"\"\"//не используя никаких других арифметических операций, кроме умножения, возвести в степень 10\n",
    "//введённое с клавиатуры число с помощью только четырёх операций умножения и двух переменных.\"\"\"\n",
    "a = 10 * 10\n",
    "b = a * a\n",
    "print (a * b * b)\n",
    "\n",
    "#x = float (input())\n",
    "#print(int(x),' hours ', int (x * 60) % 60, int (x * 3600) % 60 )\n",
    "int (12.3456 * 60) % 60 # быстродействие в связи с фун-ей int\n",
    "round (12.3456 * 3600 % 60)\n",
    "\n",
    "#зробити так, щоб заглавні літери ставали маленькими:A = a\n",
    "x = input()\n",
    "print (chr(ord(x) + 32))\n",
    "\n",
    "\"\"\"x = float(input( \"enter a valid number: \"))\n",
    "Valid number: 1.23\n",
    "first digit of fractional number 1.23 - 2\"\"\"\n",
    "x = 785.5345\n",
    "int (x * 10 - int(x)*10)\n",
    "print(int(x * 10) % 10)\n",
    "#Вводится любые три числа. Если они разные, результат выражения в выводе 0, если любые два совпали - 10,\n",
    "#все три одинаковые - 30. Использовать исключительно операции.\n"
   ]
  },
  {
   "cell_type": "code",
   "execution_count": 7,
   "metadata": {},
   "outputs": [
    {
     "name": "stdout",
     "output_type": "stream",
     "text": [
      "10\n",
      "1540756423168\n",
      "1540756423168\n",
      "1540674224560\n",
      "1540756423168\n",
      "1540756423168\n",
      "Groups of 5 robots amount to: 1 Groups of 3 robots amount to: 3\n"
     ]
    }
   ],
   "source": [
    "\"\"\"a,b,c = list (map (int, input (\"INput 3 integers: \").split()))\n",
    "print (\"Win: \", a * b * c)\"\"\"\n",
    "a, b, c = 4, 1, 4\n",
    "#print (30 if a + b + c == a*3 or 10 if  )\n",
    "print (((a == b) + (a == c) + (b == c))* 10)\n",
    "\n",
    "a = b = [1,7]\n",
    "print(id(a))\n",
    "print(id(b))\n",
    "print(id(7))\n",
    "a[0] = 2\n",
    "print(id(a))\n",
    "print(id(b))\n",
    "b\n",
    "\"\"\"43 robots - 8 * group 5 - allow 1 group 3: 42 - group 5*6 - 4 group *3////\n",
    "skript for groups on 5 (priority) and groups on 3 after numbers 8 more\"\"\"\n",
    "\n",
    "def robot_invasion(n=int):\n",
    "    if n < 8:\n",
    "        raise ValueError (\"Number couldn`t be divided into selcted groups\")\n",
    "    else:\n",
    "        gr_by5 = n//5\n",
    "        if n % 5 == 0:\n",
    "            print ('Groups of 5 robots amount to:', gr_by5)\n",
    "        else:\n",
    "            remainder = n - 5 * gr_by5\n",
    "            gr_by3 = remainder // 3\n",
    "            if remainder % 3 == 0:\n",
    "                print ('Groups of 5 robots amount to:', gr_by5, 'Groups of 3 robots amount to:', gr_by3)\n",
    "            else:\n",
    "                while remainder % 3 != 0:\n",
    "                    gr_by5 -= 1\n",
    "                    remainder = n - 5 * gr_by5\n",
    "                    gr_by3 = remainder // 3\n",
    "                    if remainder % 3 == 0:\n",
    "                        print ('Groups of 5 robots amount to:', gr_by5, 'Groups of 3 robots amount to:', gr_by3)\n",
    "\"\"\"                else:\n",
    "                    gr_by5 -= 1\n",
    "                    remainder = n - 5 * gr_by5\n",
    "                    gr_by3 = remainder / 3\n",
    "                    if remainder % 3 == 0:\n",
    "                        print ('Groups of 5 robots amount to:', gr_by5, 'Groups of 3 robots amount to:', gr_by3)\n",
    "\"\"\"                  \n",
    "    \n",
    "robot_invasion(14)\n",
    "\n",
    ">>>def Switch(amount):\n",
    "\tcase, G5 = int(amount%5), amount//5\n",
    "\tif case == 0: \n",
    "\t\tG3 = 0\n",
    "\telif case == 1:\n",
    "\t\tG5-=1\n",
    "\t\tG3 = 2\n",
    "\telif case == 2:\n",
    "\t\tG5 -= 2\n",
    "\t\tG3 = 4\n",
    "\telif case == 3:\n",
    "\t\tG3 = 1\n",
    "\telif case == 4:\n",
    "\t\tG5 -= 1\n",
    "\t\tG3 = 3\n",
    "\treturn \"Групп по три - \" + str(G3) + \", групп по пять - \" + str(G5);\n",
    "\n",
    ">>>CB=int(input(\"Введите количество роботов в десант-группе: \"))\n",
    "Switch(CB)\n"
   ]
  },
  {
   "cell_type": "code",
   "execution_count": 1,
   "metadata": {},
   "outputs": [
    {
     "data": {
      "text/plain": [
       "'Групп по три - 3, групп по пять - 9'"
      ]
     },
     "execution_count": 1,
     "metadata": {},
     "output_type": "execute_result"
    }
   ],
   "source": [
    "\n"
   ]
  }
 ],
 "metadata": {
  "kernelspec": {
   "display_name": "Python 3.10.7 64-bit",
   "language": "python",
   "name": "python3"
  },
  "language_info": {
   "codemirror_mode": {
    "name": "ipython",
    "version": 3
   },
   "file_extension": ".py",
   "mimetype": "text/x-python",
   "name": "python",
   "nbconvert_exporter": "python",
   "pygments_lexer": "ipython3",
   "version": "3.10.7"
  },
  "orig_nbformat": 4,
  "vscode": {
   "interpreter": {
    "hash": "52634da84371cba311ea128a5ea7cdc41ff074b781779e754b270ff9f8153cee"
   }
  }
 },
 "nbformat": 4,
 "nbformat_minor": 2
}
