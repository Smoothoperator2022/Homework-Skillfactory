{
 "cells": [
  {
   "cell_type": "code",
   "execution_count": 1,
   "metadata": {},
   "outputs": [
    {
     "name": "stdout",
     "output_type": "stream",
     "text": [
      "4992\n",
      "4992\n",
      "10000000000\n"
     ]
    }
   ],
   "source": [
    "\"\"\"Вывести на экран полученное одним выражением с двумя знаками операции и с нужными литералами\n",
    "число, кратное 39, меньшее 5000, максимально близкое 5000. Сделать то же, заменив эти два знака\n",
    "операции на два других, переставив литералы\"\"\"\n",
    "print (5000 // 39 * 39)\n",
    "print (5000 - 5000 % 39)\n",
    "\n",
    "\"\"\"//не используя никаких других арифметических операций, кроме умножения, возвести в степень 10\n",
    "//введённое с клавиатуры число с помощью только четырёх операций умножения и двух переменных.\"\"\"\n",
    "a = 10 * 10\n",
    "b = a * a\n",
    "print (a * b * b)\n",
    "\n",
    "#x = float (input())\n",
    "#print(int(x),' hours ', int (x * 60) % 60, int (x * 3600) % 60 )\n",
    "int (12.3456 * 60) % 60 # быстродействие в связи с фун-ей int\n",
    "round (12.3456 * 3600 % 60)\n",
    "\n",
    "#зробити так, щоб заглавні літери ставали маленькими:A = a\n",
    "x = input()\n",
    "print (chr(ord(x) + 32))\n",
    "\n",
    "\"\"\"x = float(input( \"enter a valid number: \"))\n",
    "Valid number: 1.23\n",
    "first digit of fractional number 1.23 - 2\"\"\"\n",
    "x = 785.5345\n",
    "int (x * 10 - int(x)*10)\n",
    "print(int(x * 10) % 10)\n",
    "#Вводится любые три числа. Если они разные, результат выражения в выводе 0, если любые два совпали - 10,\n",
    "#все три одинаковые - 30. Использовать исключительно операции.\n"
   ]
  },
  {
   "cell_type": "code",
   "execution_count": 4,
   "metadata": {},
   "outputs": [
    {
     "data": {
      "text/plain": [
       "2"
      ]
     },
     "execution_count": 4,
     "metadata": {},
     "output_type": "execute_result"
    }
   ],
   "source": [
    "\"\"\"a,b,c = list (map (int, input (\"INput 3 integers: \").split()))\n",
    "print (\"Win: \", a * b * c)\"\"\"\n",
    "a,b,c = 4,2,4\n",
    "#print (30 if a + b + c == a*3 or 10 if  )\n",
    "a/b"
   ]
  }
 ],
 "metadata": {
  "kernelspec": {
   "display_name": "Python 3.10.7 64-bit",
   "language": "python",
   "name": "python3"
  },
  "language_info": {
   "codemirror_mode": {
    "name": "ipython",
    "version": 3
   },
   "file_extension": ".py",
   "mimetype": "text/x-python",
   "name": "python",
   "nbconvert_exporter": "python",
   "pygments_lexer": "ipython3",
   "version": "3.10.7"
  },
  "orig_nbformat": 4,
  "vscode": {
   "interpreter": {
    "hash": "52634da84371cba311ea128a5ea7cdc41ff074b781779e754b270ff9f8153cee"
   }
  }
 },
 "nbformat": 4,
 "nbformat_minor": 2
}
