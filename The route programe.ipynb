{
 "cells": [
  {
   "cell_type": "code",
   "execution_count": 18,
   "metadata": {},
   "outputs": [
    {
     "name": "stdout",
     "output_type": "stream",
     "text": [
      "[8, 8, 8, 8, 8, 8, 7] [10, 10, 10, 10, 9, 9] [10, 10, 10, 10, 10, 10]\n"
     ]
    }
   ],
   "source": [
    "def get_interval (t_in=int,n_car=int): # t_in - оборотний рейс, n_car - кількість вагонів\n",
    "    list_int = [] # список цілочисельних інтервалів для вагонів\n",
    "    if t_in % n_car == 0:\n",
    "        div = int (t_in / n_car) \n",
    "        for i in range(n_car):\n",
    "            list_int.append (div)\n",
    "    elif t_in % n_car != 0:\n",
    "        min_div = t_in//n_car \n",
    "        max_div = t_in//n_car + 1 \n",
    "        qa_max = t_in%n_car \n",
    "        qa_min = int ((t_in - max_div * qa_max) / min_div) \n",
    "        for i in range(qa_max):\n",
    "            list_int.append(max_div)\n",
    "        for i in range(qa_min):\n",
    "            list_int.append(min_div)\n",
    "    return list_int\n",
    "\n",
    "a = get_interval (55,7)\n",
    "b = get_interval (58,6)\n",
    "c = get_interval (60,6)\n",
    "\n",
    "print (a,b,c)"
   ]
  },
  {
   "cell_type": "code",
   "execution_count": 17,
   "metadata": {},
   "outputs": [],
   "source": [
    "def get_schedule(t_route=int, n_car=int, start=float):\n",
    "    table_schedule_df = pd.DataFrame(\n",
    "        data = [],\n",
    "        columns = [],\n",
    "        index = [x + 1 for x in range(n_car)]    \n",
    "    )      \n",
    "\n",
    "a = get_schedule(0,6,0)\n"
   ]
  },
  {
   "cell_type": "code",
   "execution_count": 17,
   "metadata": {},
   "outputs": [
    {
     "ename": "ValueError",
     "evalue": "Shape of passed values is (6, 1), indices imply (6, 0)",
     "output_type": "error",
     "traceback": [
      "\u001b[1;31m---------------------------------------------------------------------------\u001b[0m",
      "\u001b[1;31mValueError\u001b[0m                                Traceback (most recent call last)",
      "Cell \u001b[1;32mIn [17], line 5\u001b[0m\n\u001b[0;32m      3\u001b[0m route_27 \u001b[39m=\u001b[39m [\u001b[39m10\u001b[39m,\u001b[39m10\u001b[39m,\u001b[39m10\u001b[39m,\u001b[39m10\u001b[39m,\u001b[39m9\u001b[39m,\u001b[39m9\u001b[39m]\n\u001b[0;32m      4\u001b[0m start_time \u001b[39m=\u001b[39m \u001b[39m365\u001b[39m\n\u001b[1;32m----> 5\u001b[0m table_schedule_df \u001b[39m=\u001b[39m pd\u001b[39m.\u001b[39;49mDataFrame(\n\u001b[0;32m      6\u001b[0m         data \u001b[39m=\u001b[39;49m [start_time \u001b[39m+\u001b[39;49m route_27 [x] \u001b[39mfor\u001b[39;49;00m x \u001b[39min\u001b[39;49;00m \u001b[39mrange\u001b[39;49m(\u001b[39mlen\u001b[39;49m(route_27))],\n\u001b[0;32m      7\u001b[0m         columns \u001b[39m=\u001b[39;49m [],\n\u001b[0;32m      8\u001b[0m         index \u001b[39m=\u001b[39;49m [x \u001b[39m+\u001b[39;49m \u001b[39m1\u001b[39;49m \u001b[39mfor\u001b[39;49;00m x \u001b[39min\u001b[39;49;00m \u001b[39mrange\u001b[39;49m(n_car)]    \n\u001b[0;32m      9\u001b[0m     )  \n\u001b[0;32m     10\u001b[0m display(table_schedule_df)\n",
      "File \u001b[1;32mc:\\Python\\lib\\site-packages\\pandas\\core\\frame.py:761\u001b[0m, in \u001b[0;36mDataFrame.__init__\u001b[1;34m(self, data, index, columns, dtype, copy)\u001b[0m\n\u001b[0;32m    753\u001b[0m         mgr \u001b[39m=\u001b[39m arrays_to_mgr(\n\u001b[0;32m    754\u001b[0m             arrays,\n\u001b[0;32m    755\u001b[0m             columns,\n\u001b[1;32m   (...)\u001b[0m\n\u001b[0;32m    758\u001b[0m             typ\u001b[39m=\u001b[39mmanager,\n\u001b[0;32m    759\u001b[0m         )\n\u001b[0;32m    760\u001b[0m     \u001b[39melse\u001b[39;00m:\n\u001b[1;32m--> 761\u001b[0m         mgr \u001b[39m=\u001b[39m ndarray_to_mgr(\n\u001b[0;32m    762\u001b[0m             data,\n\u001b[0;32m    763\u001b[0m             index,\n\u001b[0;32m    764\u001b[0m             columns,\n\u001b[0;32m    765\u001b[0m             dtype\u001b[39m=\u001b[39;49mdtype,\n\u001b[0;32m    766\u001b[0m             copy\u001b[39m=\u001b[39;49mcopy,\n\u001b[0;32m    767\u001b[0m             typ\u001b[39m=\u001b[39;49mmanager,\n\u001b[0;32m    768\u001b[0m         )\n\u001b[0;32m    769\u001b[0m \u001b[39melse\u001b[39;00m:\n\u001b[0;32m    770\u001b[0m     mgr \u001b[39m=\u001b[39m dict_to_mgr(\n\u001b[0;32m    771\u001b[0m         {},\n\u001b[0;32m    772\u001b[0m         index,\n\u001b[1;32m   (...)\u001b[0m\n\u001b[0;32m    775\u001b[0m         typ\u001b[39m=\u001b[39mmanager,\n\u001b[0;32m    776\u001b[0m     )\n",
      "File \u001b[1;32mc:\\Python\\lib\\site-packages\\pandas\\core\\internals\\construction.py:350\u001b[0m, in \u001b[0;36mndarray_to_mgr\u001b[1;34m(values, index, columns, dtype, copy, typ)\u001b[0m\n\u001b[0;32m    345\u001b[0m \u001b[39m# _prep_ndarraylike ensures that values.ndim == 2 at this point\u001b[39;00m\n\u001b[0;32m    346\u001b[0m index, columns \u001b[39m=\u001b[39m _get_axes(\n\u001b[0;32m    347\u001b[0m     values\u001b[39m.\u001b[39mshape[\u001b[39m0\u001b[39m], values\u001b[39m.\u001b[39mshape[\u001b[39m1\u001b[39m], index\u001b[39m=\u001b[39mindex, columns\u001b[39m=\u001b[39mcolumns\n\u001b[0;32m    348\u001b[0m )\n\u001b[1;32m--> 350\u001b[0m _check_values_indices_shape_match(values, index, columns)\n\u001b[0;32m    352\u001b[0m \u001b[39mif\u001b[39;00m typ \u001b[39m==\u001b[39m \u001b[39m\"\u001b[39m\u001b[39marray\u001b[39m\u001b[39m\"\u001b[39m:\n\u001b[0;32m    354\u001b[0m     \u001b[39mif\u001b[39;00m \u001b[39missubclass\u001b[39m(values\u001b[39m.\u001b[39mdtype\u001b[39m.\u001b[39mtype, \u001b[39mstr\u001b[39m):\n",
      "File \u001b[1;32mc:\\Python\\lib\\site-packages\\pandas\\core\\internals\\construction.py:421\u001b[0m, in \u001b[0;36m_check_values_indices_shape_match\u001b[1;34m(values, index, columns)\u001b[0m\n\u001b[0;32m    419\u001b[0m passed \u001b[39m=\u001b[39m values\u001b[39m.\u001b[39mshape\n\u001b[0;32m    420\u001b[0m implied \u001b[39m=\u001b[39m (\u001b[39mlen\u001b[39m(index), \u001b[39mlen\u001b[39m(columns))\n\u001b[1;32m--> 421\u001b[0m \u001b[39mraise\u001b[39;00m \u001b[39mValueError\u001b[39;00m(\u001b[39mf\u001b[39m\u001b[39m\"\u001b[39m\u001b[39mShape of passed values is \u001b[39m\u001b[39m{\u001b[39;00mpassed\u001b[39m}\u001b[39;00m\u001b[39m, indices imply \u001b[39m\u001b[39m{\u001b[39;00mimplied\u001b[39m}\u001b[39;00m\u001b[39m\"\u001b[39m)\n",
      "\u001b[1;31mValueError\u001b[0m: Shape of passed values is (6, 1), indices imply (6, 0)"
     ]
    }
   ],
   "source": [
    "import pandas as pd\n",
    "n_car = 6\n",
    "route_27 = [10,10,10,10,9,9]\n",
    "start_time = 365\n",
    "table_schedule_df = pd.DataFrame(\n",
    "        data = [start_time + route_27 [x] for x in range(len(route_27))],\n",
    "        columns = [],\n",
    "        index = [x + 1 for x in range(n_car)]    \n",
    "    )  \n",
    "display(table_schedule_df)  "
   ]
  },
  {
   "cell_type": "code",
   "execution_count": 13,
   "metadata": {},
   "outputs": [
    {
     "name": "stdout",
     "output_type": "stream",
     "text": [
      "1440\n",
      "(23, 59)\n"
     ]
    },
    {
     "data": {
      "text/plain": [
       "365"
      ]
     },
     "execution_count": 13,
     "metadata": {},
     "output_type": "execute_result"
    }
   ],
   "source": [
    "import pandas as pd\n",
    "import datetime\n",
    "#columns - ?\n",
    "start_time = datetime.time(6,1)\n",
    "#next_time = start_time + datetime.timedelta(hours=1)\n",
    "\n",
    "a = [10,10,10,10,9,9]\n",
    "#start_time =\n",
    "def get_hours (minutes=int):\n",
    "    if minutes > 1439:\n",
    "        raise ValueError (\"outnumbered parameter\")\n",
    "    else:\n",
    "        hours = minutes//60\n",
    "        left_minutes = minutes%60\n",
    "        return(hours,left_minutes)\n",
    "\"\"\"hours = list(range(0,24))\n",
    "minutes = list(range(0,60))\n",
    "for hour in hours:\n",
    "    for minute in minutes:\"\"\"\n",
    "    \n",
    "print(24*60)\n",
    "print(get_hours(1439))\n",
    "\n",
    "def get_minutes(hours=int, m_p_h=int):#minutes per hour\n",
    "    if hours > 23 or m_p_h > 59:\n",
    "        raise ValueError (\"Wrong time!0\")\n",
    "    else:\n",
    "        return (hours * 60 + m_p_h)\n",
    "\n",
    "get_minutes(6,5)"
   ]
  },
  {
   "cell_type": "code",
   "execution_count": 71,
   "metadata": {},
   "outputs": [
    {
     "data": {
      "text/plain": [
       "1    375\n",
       "2    385\n",
       "3    395\n",
       "4    405\n",
       "5    414\n",
       "6    423\n",
       "dtype: int64"
      ]
     },
     "execution_count": 71,
     "metadata": {},
     "output_type": "execute_result"
    }
   ],
   "source": [
    "import pandas as pd\n",
    "n_car = 6\n",
    "route_27_time = 58\n",
    "route_27_interval = [10,10,10,10,9,9]\n",
    "route_27_list = []\n",
    "start_time = 365 # minutes\n",
    "\n",
    "for i in range(len(route_27_interval)):\n",
    "    start_time += route_27_interval[i]\n",
    "    route_27_list.append(start_time)\n",
    "    \n",
    "route_27_series = pd.Series(data=[x for x in route_27_list], index=[x + 1 for x in range(n_car)])\n",
    "route_27_series\n",
    "                            "
   ]
  }
 ],
 "metadata": {
  "kernelspec": {
   "display_name": "Python 3",
   "language": "python",
   "name": "python3"
  },
  "language_info": {
   "codemirror_mode": {
    "name": "ipython",
    "version": 3
   },
   "file_extension": ".py",
   "mimetype": "text/x-python",
   "name": "python",
   "nbconvert_exporter": "python",
   "pygments_lexer": "ipython3",
   "version": "3.10.7 (tags/v3.10.7:6cc6b13, Sep  5 2022, 14:08:36) [MSC v.1933 64 bit (AMD64)]"
  },
  "orig_nbformat": 4,
  "vscode": {
   "interpreter": {
    "hash": "52634da84371cba311ea128a5ea7cdc41ff074b781779e754b270ff9f8153cee"
   }
  }
 },
 "nbformat": 4,
 "nbformat_minor": 2
}
