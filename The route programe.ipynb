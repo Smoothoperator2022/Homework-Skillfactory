{
 "cells": [
  {
   "cell_type": "code",
   "execution_count": 18,
   "metadata": {},
   "outputs": [
    {
     "name": "stdout",
     "output_type": "stream",
     "text": [
      "[8, 8, 8, 8, 8, 8, 7] [10, 10, 10, 10, 9, 9] [10, 10, 10, 10, 10, 10]\n"
     ]
    }
   ],
   "source": [
    "def get_interval (t_in=int,n_car=int): # t_in - оборотний рейс, n_car - кількість вагонів\n",
    "    list_int = [] # список цілочисельних інтервалів для вагонів\n",
    "    if t_in % n_car == 0:\n",
    "        div = int (t_in / n_car) \n",
    "        for i in range(n_car):\n",
    "            list_int.append (div)\n",
    "    elif t_in % n_car != 0:\n",
    "        min_div = t_in//n_car \n",
    "        max_div = t_in//n_car + 1 \n",
    "        qa_max = t_in%n_car \n",
    "        qa_min = int ((t_in - max_div * qa_max) / min_div) \n",
    "        for i in range(qa_max):\n",
    "            list_int.append(max_div)\n",
    "        for i in range(qa_min):\n",
    "            list_int.append(min_div)\n",
    "    return list_int\n",
    "\n",
    "a = get_interval (55,7)\n",
    "b = get_interval (58,6)\n",
    "c = get_interval (60,6)\n",
    "\n",
    "print (a,b,c)"
   ]
  },
  {
   "cell_type": "code",
   "execution_count": 14,
   "metadata": {},
   "outputs": [],
   "source": [
    "def get_schedule(t_route=int, n_car=int, start=float):\n",
    "    table_schedule_df = pd.DataFrame(\n",
    "        data = [],\n",
    "        columns = [],\n",
    "        index = [x + 1 for x in range(n_car)]    \n",
    "    )      \n",
    "\n",
    "a = get_schedule(0,6,0)\n",
    "a"
   ]
  },
  {
   "cell_type": "code",
   "execution_count": 12,
   "metadata": {},
   "outputs": [
    {
     "ename": "TypeError",
     "evalue": "object of type 'int' has no len()",
     "output_type": "error",
     "traceback": [
      "\u001b[1;31m---------------------------------------------------------------------------\u001b[0m",
      "\u001b[1;31mTypeError\u001b[0m                                 Traceback (most recent call last)",
      "Cell \u001b[1;32mIn [12], line 12\u001b[0m\n\u001b[0;32m      5\u001b[0m route_27 \u001b[39m=\u001b[39m \u001b[39m58\u001b[39m\n\u001b[0;32m      6\u001b[0m \u001b[39m\"\"\"table_schedule_df = pd.DataFrame(\u001b[39;00m\n\u001b[0;32m      7\u001b[0m \u001b[39m        data = [start_time + route_27 [x] for x in range(len(route_27))],\u001b[39;00m\n\u001b[0;32m      8\u001b[0m \u001b[39m        columns = [],\u001b[39;00m\n\u001b[0;32m      9\u001b[0m \u001b[39m        index = #[x + 1 for x in range(n_car)]    \u001b[39;00m\n\u001b[0;32m     10\u001b[0m \u001b[39m    )  \u001b[39;00m\n\u001b[0;32m     11\u001b[0m \u001b[39mdisplay(table_schedule_df)\"\"\"\u001b[39;00m\n\u001b[1;32m---> 12\u001b[0m data \u001b[39m=\u001b[39m  [start_time \u001b[39m+\u001b[39m route_27 [x] \u001b[39mfor\u001b[39;00m x \u001b[39min\u001b[39;00m \u001b[39mrange\u001b[39m(\u001b[39mlen\u001b[39;49m(route_27))]\n",
      "\u001b[1;31mTypeError\u001b[0m: object of type 'int' has no len()"
     ]
    }
   ],
   "source": [
    "import pandas as pd\n",
    "n_car = 6\n",
    "route_27 = [10,10,10,10,9,9]\n",
    "start_time = 365\n",
    "route_27 = 58\n",
    "table_schedule_df = pd.DataFrame(\n",
    "        data = [start_time + route_27 [x] for x in range(len(route_27))], #apply (lambda x: x+58 if (x+58) <1200)\n",
    "        columns = [],\n",
    "        index = #[x + 1 for x in range(n_car)]    \n",
    "    )  \n",
    "display(table_schedule_df)\n",
    "data =  [start_time + route_27 [x] for x in range(len(route_27))]"
   ]
  },
  {
   "cell_type": "code",
   "execution_count": 80,
   "metadata": {},
   "outputs": [
    {
     "name": "stdout",
     "output_type": "stream",
     "text": [
      "1440\n",
      "(9, 30)\n"
     ]
    },
    {
     "data": {
      "text/plain": [
       "1290"
      ]
     },
     "execution_count": 80,
     "metadata": {},
     "output_type": "execute_result"
    }
   ],
   "source": [
    "import pandas as pd\n",
    "import datetime\n",
    "#columns - ?\n",
    "start_time = datetime.time(6,1)\n",
    "#next_time = start_time + datetime.timedelta(hours=1)\n",
    "\n",
    "a = [10,10,10,10,9,9]\n",
    "#start_time =\n",
    "def get_hours (minutes=int):\n",
    "    if minutes > 1439:\n",
    "        raise ValueError (\"outnumbered parameter\")\n",
    "    else:\n",
    "        hours = minutes//60\n",
    "        left_minutes = minutes%60\n",
    "        return(hours,left_minutes)\n",
    "\"\"\"hours = list(range(0,24))\n",
    "minutes = list(range(0,60))\n",
    "for hour in hours:\n",
    "    for minute in minutes:\"\"\"\n",
    "    \n",
    "print(24*60)\n",
    "print(get_hours(570))\n",
    "\n",
    "def get_minutes(hours=int, m_p_h=int):#minutes per hour\n",
    "    if hours > 23 or m_p_h > 59:\n",
    "        raise ValueError (\"Wrong time!0\")\n",
    "    else:\n",
    "        return (hours * 60 + m_p_h)\n",
    "\n",
    "get_minutes(21, 30)"
   ]
  },
  {
   "cell_type": "code",
   "execution_count": 1,
   "metadata": {},
   "outputs": [
    {
     "data": {
      "text/plain": [
       "'for i in route_27_list_y:\\n    while i < 1250:\\n        i += route_27_time\\n        print (i)         '"
      ]
     },
     "execution_count": 1,
     "metadata": {},
     "output_type": "execute_result"
    }
   ],
   "source": [
    "import pandas as pd\n",
    "import numpy as np\n",
    "n_car = 6\n",
    "route_27_time = 58\n",
    "route_27_interval = [10,10,10,10,9,9]\n",
    "route_27_array = np.array([])\n",
    "s_time = 365 # minutes\n",
    "route_27_list_y = []\n",
    "route_27_tour_list = []\n",
    "#while s_time < 1250:\n",
    "for i in range(len(route_27_interval)):\n",
    "    route_27_list_y.append(s_time)\n",
    "    s_time += route_27_interval[i]\n",
    "    \n",
    "route_27_list_y\n",
    "#quantity_columns_df = int (len (route_27_list) / n_car)\n",
    "#print(quantity_columns_df)    \n",
    "#route_27_series = pd.Series(data=[x for x in route_27_list], index=[x + 1 for x in range(n_car)])\n",
    "\"\"\"route_27_df = pd.DataFrame(\n",
    "    columns = [],\n",
    "    data = [x for x in route_27_tour_list],\n",
    "    \n",
    "    #index=[x + 1 for x in range(n_car)]\n",
    ")\"\"\"\n",
    "#for i in route_27_tour_list:\n",
    "#route_27_tour_list.append(route_27_tour_list)\n",
    "#route_27_tour_list\n",
    "\"\"\"for i in route_27_list_y:\n",
    "    while i < 1250:\n",
    "        i += route_27_time\n",
    "        print (i)         \"\"\"          "
   ]
  },
  {
   "cell_type": "code",
   "execution_count": 12,
   "metadata": {},
   "outputs": [
    {
     "name": "stdout",
     "output_type": "stream",
     "text": [
      "[358, 368, 378, 388, 398, 407]\n"
     ]
    },
    {
     "data": {
      "text/plain": [
       "[]"
      ]
     },
     "execution_count": 12,
     "metadata": {},
     "output_type": "execute_result"
    }
   ],
   "source": [
    "import pandas as pd\n",
    "route_27_time = 58\n",
    "route_27_interval = [10,10,10,10,9,9] #n_car=len(route 27 interval)\n",
    "route_27_list = []\n",
    "s_time = 358 # minutes\n",
    "route_27_tour_list = []\n",
    "\n",
    "def nCar_schedule (s_time,route_interval,route_list=list()):\n",
    "   for i in range(len(route_interval)):\n",
    "      route_list.append(s_time)\n",
    "      s_time += route_interval[i]\n",
    "   return route_list\n",
    "\n",
    "tram_27 = nCar_schedule(358,58,route_27_interval)\n",
    "print(tram_27)\n",
    "\n",
    "def schedule_generator(tram_route,route_time):\n",
    "   for i in tram_route:\n",
    "      while i<1250:\n",
    "         tram_route[i]+=route_time\n",
    "         \n",
    "   \n",
    "\n",
    "#while True:\n",
    "#   route_tour_list.append(route_list[i]+route_time)\n",
    "   \n",
    "# generator\n",
    "route_27_list\n",
    "#data = [s_time + route_27_list [x] for x in range(len(route_27_time))]"
   ]
  },
  {
   "cell_type": "code",
   "execution_count": 16,
   "metadata": {},
   "outputs": [
    {
     "data": {
      "text/plain": [
       "[[358, 358, 358, 358, 358, 358],\n",
       " [358, 358, 358, 358, 358, 358],\n",
       " [358, 358, 358, 358, 358, 358],\n",
       " [358, 358, 358, 358, 358, 358],\n",
       " [358, 358, 358, 358, 358, 358],\n",
       " [358, 358, 358, 358, 358, 358]]"
      ]
     },
     "execution_count": 16,
     "metadata": {},
     "output_type": "execute_result"
    }
   ],
   "source": [
    "n_car = 6\n",
    "route_27_time = 58\n",
    "route_27_interval = [10,10,10,10,9,9]\n",
    "route_27_schedule=[]\n",
    "route_27_list = []\n",
    "s_time = 358 # minutes\n",
    "\n",
    "for i in range(len(route_27_interval)):\n",
    "    route_27_list.append(s_time)\n",
    "    route_27_schedule.append(route_27_list)\n",
    "    #while s_time < 1250:\n",
    "    #s_time += route_27_interval[i]\n",
    "route_27_schedule\n",
    "\n",
    " "
   ]
  },
  {
   "cell_type": "code",
   "execution_count": 2,
   "metadata": {},
   "outputs": [
    {
     "data": {
      "text/plain": [
       "[[3, 5, 7, 9, 11, 13], [7, 9, 11, 13, 15], [5, 7, 9, 11, 13, 15]]"
      ]
     },
     "execution_count": 2,
     "metadata": {},
     "output_type": "execute_result"
    }
   ],
   "source": [
    ">>> s=[3,7,5]\n",
    ">>> a=[[s[i]+j*2 for j in range(6) if s[i]+j*2 < 16] for i in range(3)]\n",
    ">>> a\n"
   ]
  }
 ],
 "metadata": {
  "kernelspec": {
   "display_name": "Python 3",
   "language": "python",
   "name": "python3"
  },
  "language_info": {
   "codemirror_mode": {
    "name": "ipython",
    "version": 3
   },
   "file_extension": ".py",
   "mimetype": "text/x-python",
   "name": "python",
   "nbconvert_exporter": "python",
   "pygments_lexer": "ipython3",
   "version": "3.10.7"
  },
  "orig_nbformat": 4,
  "vscode": {
   "interpreter": {
    "hash": "52634da84371cba311ea128a5ea7cdc41ff074b781779e754b270ff9f8153cee"
   }
  }
 },
 "nbformat": 4,
 "nbformat_minor": 2
}
