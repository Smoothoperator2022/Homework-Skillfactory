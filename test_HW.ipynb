{
 "cells": [
  {
   "cell_type": "code",
   "execution_count": null,
   "metadata": {},
   "outputs": [],
   "source": [
    "import pandas as pd\n",
    "melb_data = pd.read_csv ('data/melb_data.csv')\n",
    "melb_df = melb_data.copy()\n",
    "melb_df.head(8)\n",
    "def get_street_type(address):\n",
    "    exclude_list = ['N','S','W','E']\n",
    "    address_list = address.split(' ')\n",
    "    street_type = address_list[-1]\n",
    "    if street_type in exclude_list:\n",
    "        street_type = address_list [-2]\n",
    "    return street_type\n",
    "\n",
    "street_types = melb_df['Address'].apply(get_street_type)\n",
    "street_types.value_counts()\n",
    "refind_str_types = street_types.apply(lambda x: \"Bvd\" if x == 'Boulevard' else x)\n",
    "refind_str_types = street_types.apply(lambda x: \"Pde\" if x == 'Parade' else x)\n",
    "refind_str_types = street_types.apply(lambda x: \"Av\" if x == 'Avenue' else x)\n",
    "display (refind_str_types.value_counts())\n",
    "#melb_df['StreetType'] = street_type.apply(lambda x: x if x == '')"
   ]
  },
  {
   "cell_type": "code",
   "execution_count": null,
   "metadata": {},
   "outputs": [],
   "source": []
  },
  {
   "cell_type": "code",
   "execution_count": 34,
   "metadata": {},
   "outputs": [
    {
     "name": "stdout",
     "output_type": "stream",
     "text": [
      "[8, 8, 8, 8, 8, 8, 7] [10, 10, 10, 10, 9, 9] [10, 10, 10, 10, 10, 10]\n"
     ]
    }
   ],
   "source": [
    "def get_interval (t_in,n_car): # t_in - оборотний рейс, n_car - кількість вагонів\n",
    "    list_int = [] # список цілочисельних інтервалів для вагонів\n",
    "    if t_in % n_car == 0:\n",
    "        div = int (t_in / n_car) \n",
    "        for i in range(n_car):\n",
    "            list_int.append (div)\n",
    "    elif t_in % n_car != 0:\n",
    "        min_div = t_in//n_car \n",
    "        max_div = t_in//n_car + 1 \n",
    "        qa_max = t_in%n_car \n",
    "        qa_min = int ((t_in - max_div * qa_max) / min_div) \n",
    "        for i in range(qa_max):\n",
    "            list_int.append(max_div)\n",
    "        for i in range(qa_min):\n",
    "            list_int.append(min_div)\n",
    "    return list_int\n",
    "\n",
    "a = get_interval (55,7)\n",
    "b = get_interval (58,6)\n",
    "c = get_interval (60,6)\n",
    "\n",
    "print (a,b,c)\n",
    "        \n",
    "        \n",
    "        "
   ]
  },
  {
   "cell_type": "code",
   "execution_count": 12,
   "metadata": {},
   "outputs": [
    {
     "name": "stdout",
     "output_type": "stream",
     "text": [
      "[9, 9, 9, 9]\n"
     ]
    }
   ],
   "source": [
    "list_int = []\n",
    "div_int = 58//6 #9\n",
    "qa_div = 58%6 #4\n",
    "for i in range(str_int):\n",
    "    list_int.append(div_int)\n",
    "print (list_int)\n",
    "\n"
   ]
  },
  {
   "cell_type": "code",
   "execution_count": 5,
   "metadata": {},
   "outputs": [
    {
     "name": "stdout",
     "output_type": "stream",
     "text": [
      "0 --> red\n",
      "1 --> green\n",
      "2 --> blue\n",
      "3 --> yellow\n",
      "0 --> red\n",
      "1 --> green\n",
      "2 --> blue\n",
      "3 --> yellow\n"
     ]
    }
   ],
   "source": [
    "#good\n",
    "colors = ['red', 'green', 'blue', 'yellow']\n",
    "for i, color in enumerate(colors):\n",
    "    print(i, '-->', color)\n",
    "\n",
    "#bad\n",
    "colors = ['red', 'green', 'blue', 'yellow']\n",
    "for i in range(len(colors)):\n",
    "    print(i, '-->', colors[i])"
   ]
  }
 ],
 "metadata": {
  "kernelspec": {
   "display_name": "Python 3.10.7 64-bit",
   "language": "python",
   "name": "python3"
  },
  "language_info": {
   "codemirror_mode": {
    "name": "ipython",
    "version": 3
   },
   "file_extension": ".py",
   "mimetype": "text/x-python",
   "name": "python",
   "nbconvert_exporter": "python",
   "pygments_lexer": "ipython3",
   "version": "3.10.7 (tags/v3.10.7:6cc6b13, Sep  5 2022, 14:08:36) [MSC v.1933 64 bit (AMD64)]"
  },
  "orig_nbformat": 4,
  "vscode": {
   "interpreter": {
    "hash": "52634da84371cba311ea128a5ea7cdc41ff074b781779e754b270ff9f8153cee"
   }
  }
 },
 "nbformat": 4,
 "nbformat_minor": 2
}
