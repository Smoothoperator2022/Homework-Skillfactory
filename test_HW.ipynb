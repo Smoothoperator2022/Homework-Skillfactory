{
 "cells": [
  {
   "cell_type": "code",
   "execution_count": 19,
   "metadata": {},
   "outputs": [
    {
     "ename": "SyntaxError",
     "evalue": "'break' outside loop (2953949808.py, line 15)",
     "output_type": "error",
     "traceback": [
      "\u001b[1;36m  Cell \u001b[1;32mIn [19], line 15\u001b[1;36m\u001b[0m\n\u001b[1;33m    break\u001b[0m\n\u001b[1;37m    ^\u001b[0m\n\u001b[1;31mSyntaxError\u001b[0m\u001b[1;31m:\u001b[0m 'break' outside loop\n"
     ]
    }
   ],
   "source": [
    "line = \"((()))\"   \n",
    "temp_rep = deque ()\n",
    "line_dq = deque (line) \n",
    "\n",
    "try:\n",
    "    for i in line:\n",
    "        if i == '(':\n",
    "            temp_rep.append (i)\n",
    "            line_dq.popleft ()  \n",
    "        if i == ')':\n",
    "            temp_rep.pop ()\n",
    "            line_dq.popleft ()\n",
    "except IndexError as e:    #Як обійти помилку?\n",
    "    print (False)\n",
    "break\n",
    "    \n",
    "           \n",
    "if len (temp_rep) == 0 and len (line_dq) == 0:\n",
    "    print (True)\n",
    "else:\n",
    "    print (False)\n"
   ]
  }
 ],
 "metadata": {
  "kernelspec": {
   "display_name": "Python 3.10.7 64-bit",
   "language": "python",
   "name": "python3"
  },
  "language_info": {
   "codemirror_mode": {
    "name": "ipython",
    "version": 3
   },
   "file_extension": ".py",
   "mimetype": "text/x-python",
   "name": "python",
   "nbconvert_exporter": "python",
   "pygments_lexer": "ipython3",
   "version": "3.10.7"
  },
  "orig_nbformat": 4,
  "vscode": {
   "interpreter": {
    "hash": "52634da84371cba311ea128a5ea7cdc41ff074b781779e754b270ff9f8153cee"
   }
  }
 },
 "nbformat": 4,
 "nbformat_minor": 2
}
