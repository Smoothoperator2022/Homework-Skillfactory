{
 "cells": [
  {
   "cell_type": "code",
   "execution_count": 1,
   "metadata": {},
   "outputs": [
    {
     "name": "stdout",
     "output_type": "stream",
     "text": [
      "#test1 - ok -1\n",
      "#test2 - ok 2\n",
      "#test3 - ok 0\n"
     ]
    }
   ],
   "source": [
    "def array_search (A:list, N:int, x:int):\n",
    "    \"\"\"Здійснює пошук числа х в масиві А \n",
    "        від 0 до N-1 індекса включно.\n",
    "        Вертає індекс елемента х в масиві А\n",
    "        або -1, якщо такого немає\n",
    "        Якщо в масиві кілька однакових елементів \n",
    "        равних х, то вернути індекс першого по порядку\n",
    "    \"\"\"\n",
    "    for k in range (N):\n",
    "        if A[k] == x:\n",
    "            return k\n",
    "    return -1\n",
    "\n",
    "def test_array_search ():\n",
    "    A1 = [1,2,3,4,5]\n",
    "    m = array_search (A1,5,8)\n",
    "    if m == -1:\n",
    "        print (\"#test1 - ok\",m)\n",
    "    else:\n",
    "        print (\"#test1 - fail\")\n",
    "        \n",
    "    A2 = [-1,-2,-3,-4,-5]\n",
    "    m = array_search (A2,5,-3)\n",
    "    if m == 2:\n",
    "        print (\"#test2 - ok\",m)\n",
    "    else:\n",
    "        print (\"#test2 - fail\")\n",
    "        \n",
    "    A3 = [10,20,30,10,10]\n",
    "    m = array_search (A3,5,10)\n",
    "    if m == 0:\n",
    "        print (\"#test3 - ok\",m)\n",
    "    else:\n",
    "        print (\"#test3 - fail\")\n",
    "        \n",
    "test_array_search ()"
   ]
  },
  {
   "cell_type": "code",
   "execution_count": 4,
   "metadata": {},
   "outputs": [
    {
     "name": "stdout",
     "output_type": "stream",
     "text": [
      "1 5\n",
      "5 1\n",
      "2 4\n",
      "4 2\n",
      "[5, 4, 3, 2, 1]\n"
     ]
    }
   ],
   "source": [
    "A = [1,2,3,4,5]\n",
    "N = len (A)\n",
    "for i in range (N//2):\n",
    "    print (A[i], A [N-1-i])\n",
    "    A [i], A [N-1-i] = A [N-1-i], A[i]\n",
    "    print (A[i], A [N-1-i])\n",
    "print (A)"
   ]
  },
  {
   "cell_type": "code",
   "execution_count": 2,
   "metadata": {},
   "outputs": [
    {
     "name": "stdout",
     "output_type": "stream",
     "text": [
      "[1, 2, 3, 4, 5]\n",
      "[5, 4, 3, 2, 1]\n",
      "#test1invert - ok\n",
      "[0, 0, 0, 0, 0, 0, 0, 10]\n",
      "[10, 0, 0, 0, 0, 0, 0, 0]\n",
      "#test1invert - ok\n"
     ]
    }
   ],
   "source": [
    "def invert_array (A:list, N:int):\n",
    "    \"\"\"Інверсія масиву (перестановка елементів)\n",
    "    в рамках індексів від 0 до N-1\"\"\"\n",
    "    for k in range (N//2):\n",
    "        A[k], A[N-1-k] = A[N-1-k], A[k]\n",
    "        \n",
    "def test_invert_array():\n",
    "    A1 = [1,2,3,4,5]\n",
    "    print (A1)\n",
    "    invert_array(A1,5)\n",
    "    print (A1)\n",
    "    if A1 == [5,4,3,2,1]:\n",
    "        print (\"#test1invert - ok\")\n",
    "    else:\n",
    "        print (\"#test1array - fail\")\n",
    "        \n",
    "    A2 = [0,0,0,0,0,0,0,10]\n",
    "    print (A2)\n",
    "    invert_array(A2,8)\n",
    "    print (A2)\n",
    "    if A2 == [10,0,0,0,0,0,0,0]:\n",
    "        print (\"#test1invert - ok\")\n",
    "    else:\n",
    "        print (\"#test1array - fail\")   \n",
    "        \n",
    "test_invert_array()"
   ]
  },
  {
   "cell_type": "code",
   "execution_count": 9,
   "metadata": {},
   "outputs": [
    {
     "name": "stdout",
     "output_type": "stream",
     "text": [
      "[2, 3, 4, 5, 1]\n",
      "[50, 10, 20, 30, 40]\n"
     ]
    }
   ],
   "source": [
    "\"\"\"Циклічний зсув ліовруч, де ми кидаємо перший елемент в тимчасове сховище, а інші перекладаємо по одному\"\"\"\n",
    "A = [1,2,3,4,5]\n",
    "N = len (A)\n",
    "tmp_A = A [0]\n",
    "for i in range (N-1):\n",
    "    A[i]= A[i+1]\n",
    "A [N-1] = tmp_A\n",
    "print (A)\n",
    "\n",
    "\"\"\"Циклічний зсув ліворуч, де ми кидаємо останній елемент в тимчасове сховище, а інші перекидаємо по одному\"\"\"\n",
    "A = [10,20,30,40,50]\n",
    "N = len (A)\n",
    "tmp_A = A [N-1]\n",
    "for i in range (N-2,-1,-1):\n",
    "    A[i+1]= A[i]\n",
    "A [0] = tmp_A\n",
    "print (A)"
   ]
  },
  {
   "cell_type": "code",
   "execution_count": 12,
   "metadata": {},
   "outputs": [
    {
     "name": "stdout",
     "output_type": "stream",
     "text": [
      "0 - combine\n",
      "1 - combine\n",
      "2 - simple\n",
      "3 - simple\n",
      "4 - combine\n"
     ]
    }
   ],
   "source": [
    "\"\"\"Решето Ератосфена\"\"\"\n",
    "A = [1,2,3,4,5]\n",
    "N = len (A)\n",
    "A [True] * N\n",
    "A[0]=A[1]=False\n",
    "for k in range (2,N):\n",
    "    if A[k]:#==True\n",
    "        for m in range (2*k,N,k):\n",
    "            A[m] = False\n",
    "\n",
    "for k in range (N):\n",
    "    print (k,'-','simple' if A[k] else 'combine')\n",
    "    "
   ]
  }
 ],
 "metadata": {
  "kernelspec": {
   "display_name": "Python 3.10.7 64-bit",
   "language": "python",
   "name": "python3"
  },
  "language_info": {
   "codemirror_mode": {
    "name": "ipython",
    "version": 3
   },
   "file_extension": ".py",
   "mimetype": "text/x-python",
   "name": "python",
   "nbconvert_exporter": "python",
   "pygments_lexer": "ipython3",
   "version": "3.10.7"
  },
  "orig_nbformat": 4,
  "vscode": {
   "interpreter": {
    "hash": "52634da84371cba311ea128a5ea7cdc41ff074b781779e754b270ff9f8153cee"
   }
  }
 },
 "nbformat": 4,
 "nbformat_minor": 2
}
